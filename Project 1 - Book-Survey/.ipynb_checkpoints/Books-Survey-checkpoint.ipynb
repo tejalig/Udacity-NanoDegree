{
 "cells": [
  {
   "cell_type": "markdown",
   "metadata": {},
   "source": [
    "## DO YOU READ?\n",
    "##### A Goodreads-data analysis"
   ]
  },
  {
   "cell_type": "markdown",
   "metadata": {},
   "source": [
    "# Businesss Understanding"
   ]
  },
  {
   "cell_type": "markdown",
   "metadata": {},
   "source": [
    "We all have been working/studying/staying at home since march (at least that's my case).\n",
    "\n",
    "This pandemic has been very hard for everyone. Not able to go out, meet friends and organize/attend parties! Well, I don't do that on regular days anyway :P\n",
    "\n",
    "To cope up with stress/boredom I decided to read! Well, I used to read before too, but during this lockdown, I found enough time to read than usual days. Somehow I read 37 books. Yeah, that's not a huge number of books, I know! But my whole life I have read somewhat around 45 books only. And compared to that I think it's a huge achievement for me and now I try to read more often.\n",
    "\n",
    "As most of you might have already heard what they say about reading - \"its an escape from reality\", yes, it's true. Do you have any idea how many places I have visited while just sitting at home? :P\n",
    "\n",
    "I have visited London, New York, Banglore (just to name a few) without even going out! You see the magic right?\n",
    "\n",
    "Now that I have expressed my love for books, let me tell you what actually this article is going to be about. Currently, I have enrolled myself in a Nano Degree program at Udacity and my first project is to write a Data Science blog post. In which, I have to choose a dataset and perform certain analysis. And guess what? I decided to choose this Goodreads-books dataset."
   ]
  },
  {
   "cell_type": "markdown",
   "metadata": {},
   "source": [
    "# Data Understanding\n",
    "Okay wait, before we begin we need to understand the what type of data/values we are going to deal with"
   ]
  },
  {
   "cell_type": "markdown",
   "metadata": {},
   "source": [
    "You can get this dataset from  <a href = \"https://www.kaggle.com/jealousleopard/goodreadsbooks\">  Kaggle </a>.\n",
    "\n",
    "Let the analysis begin and may the DATA be in your favour! :P (Did you get it?)"
   ]
  },
  {
   "cell_type": "markdown",
   "metadata": {},
   "source": [
    "## Import necessary libraires"
   ]
  },
  {
   "cell_type": "code",
   "execution_count": 1,
   "metadata": {},
   "outputs": [],
   "source": [
    "import pandas as pd\n",
    "import matplotlib.pyplot as plt\n",
    "import numpy as np\n",
    "import seaborn as sns\n",
    "\n",
    "import warnings\n",
    "warnings.filterwarnings('ignore')\n",
    "sns.set()"
   ]
  },
  {
   "cell_type": "markdown",
   "metadata": {},
   "source": [
    "## Import the dataset"
   ]
  },
  {
   "cell_type": "code",
   "execution_count": 2,
   "metadata": {},
   "outputs": [
    {
     "name": "stderr",
     "output_type": "stream",
     "text": [
      "b'Skipping line 3350: expected 12 fields, saw 13\\nSkipping line 4704: expected 12 fields, saw 13\\nSkipping line 5879: expected 12 fields, saw 13\\nSkipping line 8981: expected 12 fields, saw 13\\n'\n"
     ]
    }
   ],
   "source": [
    "books = pd.read_csv('books.csv', error_bad_lines = False)"
   ]
  },
  {
   "cell_type": "markdown",
   "metadata": {},
   "source": [
    "## Let's check the number of rows and columns in our dataset"
   ]
  },
  {
   "cell_type": "code",
   "execution_count": 3,
   "metadata": {},
   "outputs": [
    {
     "name": "stdout",
     "output_type": "stream",
     "text": [
      "There are  11123 number of ROWS and  12 number of COLUMNS!\n"
     ]
    }
   ],
   "source": [
    "print(\"There are \", books.shape[0], \"number of ROWS and \", \n",
    "      books.shape[1], \"number of COLUMNS!\")"
   ]
  },
  {
   "cell_type": "code",
   "execution_count": 4,
   "metadata": {},
   "outputs": [
    {
     "data": {
      "text/html": [
       "<div>\n",
       "<style scoped>\n",
       "    .dataframe tbody tr th:only-of-type {\n",
       "        vertical-align: middle;\n",
       "    }\n",
       "\n",
       "    .dataframe tbody tr th {\n",
       "        vertical-align: top;\n",
       "    }\n",
       "\n",
       "    .dataframe thead th {\n",
       "        text-align: right;\n",
       "    }\n",
       "</style>\n",
       "<table border=\"1\" class=\"dataframe\">\n",
       "  <thead>\n",
       "    <tr style=\"text-align: right;\">\n",
       "      <th></th>\n",
       "      <th>bookID</th>\n",
       "      <th>title</th>\n",
       "      <th>authors</th>\n",
       "      <th>average_rating</th>\n",
       "      <th>isbn</th>\n",
       "      <th>isbn13</th>\n",
       "      <th>language_code</th>\n",
       "      <th>num_pages</th>\n",
       "      <th>ratings_count</th>\n",
       "      <th>text_reviews_count</th>\n",
       "      <th>publication_date</th>\n",
       "      <th>publisher</th>\n",
       "    </tr>\n",
       "  </thead>\n",
       "  <tbody>\n",
       "    <tr>\n",
       "      <th>0</th>\n",
       "      <td>12</td>\n",
       "      <td>The Ultimate Hitchhiker's Guide: Five Complete...</td>\n",
       "      <td>Douglas Adams</td>\n",
       "      <td>4.38</td>\n",
       "      <td>0517226952</td>\n",
       "      <td>9780517226957</td>\n",
       "      <td>eng</td>\n",
       "      <td>815</td>\n",
       "      <td>3628</td>\n",
       "      <td>254</td>\n",
       "      <td>11/1/2005</td>\n",
       "      <td>Gramercy Books</td>\n",
       "    </tr>\n",
       "    <tr>\n",
       "      <th>1</th>\n",
       "      <td>13</td>\n",
       "      <td>The Ultimate Hitchhiker's Guide to the Galaxy ...</td>\n",
       "      <td>Douglas Adams</td>\n",
       "      <td>4.38</td>\n",
       "      <td>0345453743</td>\n",
       "      <td>9780345453747</td>\n",
       "      <td>eng</td>\n",
       "      <td>815</td>\n",
       "      <td>249558</td>\n",
       "      <td>4080</td>\n",
       "      <td>4/30/2002</td>\n",
       "      <td>Del Rey Books</td>\n",
       "    </tr>\n",
       "    <tr>\n",
       "      <th>2</th>\n",
       "      <td>14</td>\n",
       "      <td>The Hitchhiker's Guide to the Galaxy (Hitchhik...</td>\n",
       "      <td>Douglas Adams</td>\n",
       "      <td>4.22</td>\n",
       "      <td>1400052920</td>\n",
       "      <td>9781400052929</td>\n",
       "      <td>eng</td>\n",
       "      <td>215</td>\n",
       "      <td>4930</td>\n",
       "      <td>460</td>\n",
       "      <td>8/3/2004</td>\n",
       "      <td>Crown</td>\n",
       "    </tr>\n",
       "    <tr>\n",
       "      <th>3</th>\n",
       "      <td>16</td>\n",
       "      <td>The Hitchhiker's Guide to the Galaxy (Hitchhik...</td>\n",
       "      <td>Douglas Adams/Stephen Fry</td>\n",
       "      <td>4.22</td>\n",
       "      <td>0739322206</td>\n",
       "      <td>9780739322208</td>\n",
       "      <td>eng</td>\n",
       "      <td>6</td>\n",
       "      <td>1266</td>\n",
       "      <td>253</td>\n",
       "      <td>3/23/2005</td>\n",
       "      <td>Random House Audio</td>\n",
       "    </tr>\n",
       "    <tr>\n",
       "      <th>4</th>\n",
       "      <td>18</td>\n",
       "      <td>The Ultimate Hitchhiker's Guide (Hitchhiker's ...</td>\n",
       "      <td>Douglas Adams</td>\n",
       "      <td>4.38</td>\n",
       "      <td>0517149257</td>\n",
       "      <td>9780517149256</td>\n",
       "      <td>eng</td>\n",
       "      <td>815</td>\n",
       "      <td>2877</td>\n",
       "      <td>195</td>\n",
       "      <td>1/17/1996</td>\n",
       "      <td>Wings Books</td>\n",
       "    </tr>\n",
       "  </tbody>\n",
       "</table>\n",
       "</div>"
      ],
      "text/plain": [
       "   bookID                                              title  \\\n",
       "0      12  The Ultimate Hitchhiker's Guide: Five Complete...   \n",
       "1      13  The Ultimate Hitchhiker's Guide to the Galaxy ...   \n",
       "2      14  The Hitchhiker's Guide to the Galaxy (Hitchhik...   \n",
       "3      16  The Hitchhiker's Guide to the Galaxy (Hitchhik...   \n",
       "4      18  The Ultimate Hitchhiker's Guide (Hitchhiker's ...   \n",
       "\n",
       "                     authors  average_rating        isbn         isbn13  \\\n",
       "0              Douglas Adams            4.38  0517226952  9780517226957   \n",
       "1              Douglas Adams            4.38  0345453743  9780345453747   \n",
       "2              Douglas Adams            4.22  1400052920  9781400052929   \n",
       "3  Douglas Adams/Stephen Fry            4.22  0739322206  9780739322208   \n",
       "4              Douglas Adams            4.38  0517149257  9780517149256   \n",
       "\n",
       "  language_code    num_pages  ratings_count  text_reviews_count  \\\n",
       "0           eng          815           3628                 254   \n",
       "1           eng          815         249558                4080   \n",
       "2           eng          215           4930                 460   \n",
       "3           eng            6           1266                 253   \n",
       "4           eng          815           2877                 195   \n",
       "\n",
       "  publication_date           publisher  \n",
       "0        11/1/2005      Gramercy Books  \n",
       "1        4/30/2002       Del Rey Books  \n",
       "2         8/3/2004               Crown  \n",
       "3        3/23/2005  Random House Audio  \n",
       "4        1/17/1996         Wings Books  "
      ]
     },
     "execution_count": 4,
     "metadata": {},
     "output_type": "execute_result"
    }
   ],
   "source": [
    "books.head()"
   ]
  },
  {
   "cell_type": "code",
   "execution_count": 5,
   "metadata": {},
   "outputs": [
    {
     "data": {
      "text/html": [
       "<div>\n",
       "<style scoped>\n",
       "    .dataframe tbody tr th:only-of-type {\n",
       "        vertical-align: middle;\n",
       "    }\n",
       "\n",
       "    .dataframe tbody tr th {\n",
       "        vertical-align: top;\n",
       "    }\n",
       "\n",
       "    .dataframe thead th {\n",
       "        text-align: right;\n",
       "    }\n",
       "</style>\n",
       "<table border=\"1\" class=\"dataframe\">\n",
       "  <thead>\n",
       "    <tr style=\"text-align: right;\">\n",
       "      <th></th>\n",
       "      <th>bookID</th>\n",
       "      <th>title</th>\n",
       "      <th>authors</th>\n",
       "      <th>average_rating</th>\n",
       "      <th>isbn</th>\n",
       "      <th>isbn13</th>\n",
       "      <th>language_code</th>\n",
       "      <th>num_pages</th>\n",
       "      <th>ratings_count</th>\n",
       "      <th>text_reviews_count</th>\n",
       "      <th>publication_date</th>\n",
       "      <th>publisher</th>\n",
       "    </tr>\n",
       "  </thead>\n",
       "  <tbody>\n",
       "    <tr>\n",
       "      <th>3884</th>\n",
       "      <td>13876</td>\n",
       "      <td>Dear God  Help!!! Love  Earl</td>\n",
       "      <td>Barbara Park/Kenneth Lafreniere</td>\n",
       "      <td>3.97</td>\n",
       "      <td>0679853952</td>\n",
       "      <td>9780679853954</td>\n",
       "      <td>eng</td>\n",
       "      <td>144</td>\n",
       "      <td>37</td>\n",
       "      <td>4</td>\n",
       "      <td>7/11/2006</td>\n",
       "      <td>Yearling</td>\n",
       "    </tr>\n",
       "    <tr>\n",
       "      <th>631</th>\n",
       "      <td>2052</td>\n",
       "      <td>The Big Sleep (Philip Marlowe  #1)</td>\n",
       "      <td>Raymond Chandler</td>\n",
       "      <td>4.01</td>\n",
       "      <td>0394758285</td>\n",
       "      <td>9780394758282</td>\n",
       "      <td>eng</td>\n",
       "      <td>231</td>\n",
       "      <td>103400</td>\n",
       "      <td>4076</td>\n",
       "      <td>7/12/1988</td>\n",
       "      <td>Vintage Crime</td>\n",
       "    </tr>\n",
       "    <tr>\n",
       "      <th>1562</th>\n",
       "      <td>5371</td>\n",
       "      <td>Amber Brown Is Not a Crayon</td>\n",
       "      <td>Paula Danziger/Tony Ross</td>\n",
       "      <td>3.84</td>\n",
       "      <td>0142406198</td>\n",
       "      <td>9780142406199</td>\n",
       "      <td>eng</td>\n",
       "      <td>96</td>\n",
       "      <td>4787</td>\n",
       "      <td>189</td>\n",
       "      <td>9/7/2006</td>\n",
       "      <td>Puffin Books</td>\n",
       "    </tr>\n",
       "    <tr>\n",
       "      <th>8917</th>\n",
       "      <td>34521</td>\n",
       "      <td>Only You Can Save Mankind (Johnny Maxwell  #1)</td>\n",
       "      <td>Terry Pratchett</td>\n",
       "      <td>3.72</td>\n",
       "      <td>0060541873</td>\n",
       "      <td>9780060541873</td>\n",
       "      <td>eng</td>\n",
       "      <td>210</td>\n",
       "      <td>9778</td>\n",
       "      <td>317</td>\n",
       "      <td>7/25/2006</td>\n",
       "      <td>HarperTrophy</td>\n",
       "    </tr>\n",
       "    <tr>\n",
       "      <th>5886</th>\n",
       "      <td>22186</td>\n",
       "      <td>Would I Lie to You (Gossip Girl  #10)</td>\n",
       "      <td>Cecily von Ziegesar</td>\n",
       "      <td>3.59</td>\n",
       "      <td>0316011835</td>\n",
       "      <td>9780316011839</td>\n",
       "      <td>eng</td>\n",
       "      <td>192</td>\n",
       "      <td>7948</td>\n",
       "      <td>135</td>\n",
       "      <td>10/4/2006</td>\n",
       "      <td>Little  Brown Young Readers</td>\n",
       "    </tr>\n",
       "  </tbody>\n",
       "</table>\n",
       "</div>"
      ],
      "text/plain": [
       "      bookID                                           title  \\\n",
       "3884   13876                    Dear God  Help!!! Love  Earl   \n",
       "631     2052              The Big Sleep (Philip Marlowe  #1)   \n",
       "1562    5371                     Amber Brown Is Not a Crayon   \n",
       "8917   34521  Only You Can Save Mankind (Johnny Maxwell  #1)   \n",
       "5886   22186           Would I Lie to You (Gossip Girl  #10)   \n",
       "\n",
       "                              authors  average_rating        isbn  \\\n",
       "3884  Barbara Park/Kenneth Lafreniere            3.97  0679853952   \n",
       "631                  Raymond Chandler            4.01  0394758285   \n",
       "1562         Paula Danziger/Tony Ross            3.84  0142406198   \n",
       "8917                  Terry Pratchett            3.72  0060541873   \n",
       "5886              Cecily von Ziegesar            3.59  0316011835   \n",
       "\n",
       "             isbn13 language_code    num_pages  ratings_count  \\\n",
       "3884  9780679853954           eng          144             37   \n",
       "631   9780394758282           eng          231         103400   \n",
       "1562  9780142406199           eng           96           4787   \n",
       "8917  9780060541873           eng          210           9778   \n",
       "5886  9780316011839           eng          192           7948   \n",
       "\n",
       "      text_reviews_count publication_date                    publisher  \n",
       "3884                   4        7/11/2006                     Yearling  \n",
       "631                 4076        7/12/1988                Vintage Crime  \n",
       "1562                 189         9/7/2006                 Puffin Books  \n",
       "8917                 317        7/25/2006                 HarperTrophy  \n",
       "5886                 135        10/4/2006  Little  Brown Young Readers  "
      ]
     },
     "execution_count": 5,
     "metadata": {},
     "output_type": "execute_result"
    }
   ],
   "source": [
    "books.sample(n = 5)"
   ]
  },
  {
   "cell_type": "markdown",
   "metadata": {},
   "source": [
    "## Check for the variables in this dataset"
   ]
  },
  {
   "cell_type": "code",
   "execution_count": 6,
   "metadata": {},
   "outputs": [
    {
     "data": {
      "text/plain": [
       "Index(['bookID', 'title', 'authors', 'average_rating', 'isbn', 'isbn13',\n",
       "       'language_code', '  num_pages', 'ratings_count', 'text_reviews_count',\n",
       "       'publication_date', 'publisher'],\n",
       "      dtype='object')"
      ]
     },
     "execution_count": 6,
     "metadata": {},
     "output_type": "execute_result"
    }
   ],
   "source": [
    "books.columns"
   ]
  },
  {
   "cell_type": "markdown",
   "metadata": {},
   "source": [
    "## Let's describe our data"
   ]
  },
  {
   "cell_type": "code",
   "execution_count": 7,
   "metadata": {},
   "outputs": [
    {
     "data": {
      "text/html": [
       "<div>\n",
       "<style scoped>\n",
       "    .dataframe tbody tr th:only-of-type {\n",
       "        vertical-align: middle;\n",
       "    }\n",
       "\n",
       "    .dataframe tbody tr th {\n",
       "        vertical-align: top;\n",
       "    }\n",
       "\n",
       "    .dataframe thead th {\n",
       "        text-align: right;\n",
       "    }\n",
       "</style>\n",
       "<table border=\"1\" class=\"dataframe\">\n",
       "  <thead>\n",
       "    <tr style=\"text-align: right;\">\n",
       "      <th></th>\n",
       "      <th>bookID</th>\n",
       "      <th>average_rating</th>\n",
       "      <th>isbn13</th>\n",
       "      <th>num_pages</th>\n",
       "      <th>ratings_count</th>\n",
       "      <th>text_reviews_count</th>\n",
       "    </tr>\n",
       "  </thead>\n",
       "  <tbody>\n",
       "    <tr>\n",
       "      <th>count</th>\n",
       "      <td>11123.000000</td>\n",
       "      <td>11123.000000</td>\n",
       "      <td>1.112300e+04</td>\n",
       "      <td>11123.000000</td>\n",
       "      <td>1.112300e+04</td>\n",
       "      <td>11123.000000</td>\n",
       "    </tr>\n",
       "    <tr>\n",
       "      <th>mean</th>\n",
       "      <td>21310.856963</td>\n",
       "      <td>3.934075</td>\n",
       "      <td>9.759880e+12</td>\n",
       "      <td>336.405556</td>\n",
       "      <td>1.794285e+04</td>\n",
       "      <td>542.048099</td>\n",
       "    </tr>\n",
       "    <tr>\n",
       "      <th>std</th>\n",
       "      <td>13094.727252</td>\n",
       "      <td>0.350485</td>\n",
       "      <td>4.429758e+11</td>\n",
       "      <td>241.152626</td>\n",
       "      <td>1.124992e+05</td>\n",
       "      <td>2576.619589</td>\n",
       "    </tr>\n",
       "    <tr>\n",
       "      <th>min</th>\n",
       "      <td>1.000000</td>\n",
       "      <td>0.000000</td>\n",
       "      <td>8.987060e+09</td>\n",
       "      <td>0.000000</td>\n",
       "      <td>0.000000e+00</td>\n",
       "      <td>0.000000</td>\n",
       "    </tr>\n",
       "    <tr>\n",
       "      <th>25%</th>\n",
       "      <td>10277.500000</td>\n",
       "      <td>3.770000</td>\n",
       "      <td>9.780345e+12</td>\n",
       "      <td>192.000000</td>\n",
       "      <td>1.040000e+02</td>\n",
       "      <td>9.000000</td>\n",
       "    </tr>\n",
       "    <tr>\n",
       "      <th>50%</th>\n",
       "      <td>20287.000000</td>\n",
       "      <td>3.960000</td>\n",
       "      <td>9.780582e+12</td>\n",
       "      <td>299.000000</td>\n",
       "      <td>7.450000e+02</td>\n",
       "      <td>47.000000</td>\n",
       "    </tr>\n",
       "    <tr>\n",
       "      <th>75%</th>\n",
       "      <td>32104.500000</td>\n",
       "      <td>4.140000</td>\n",
       "      <td>9.780872e+12</td>\n",
       "      <td>416.000000</td>\n",
       "      <td>5.000500e+03</td>\n",
       "      <td>238.000000</td>\n",
       "    </tr>\n",
       "    <tr>\n",
       "      <th>max</th>\n",
       "      <td>45641.000000</td>\n",
       "      <td>5.000000</td>\n",
       "      <td>9.790008e+12</td>\n",
       "      <td>6576.000000</td>\n",
       "      <td>4.597666e+06</td>\n",
       "      <td>94265.000000</td>\n",
       "    </tr>\n",
       "  </tbody>\n",
       "</table>\n",
       "</div>"
      ],
      "text/plain": [
       "             bookID  average_rating        isbn13     num_pages  \\\n",
       "count  11123.000000    11123.000000  1.112300e+04  11123.000000   \n",
       "mean   21310.856963        3.934075  9.759880e+12    336.405556   \n",
       "std    13094.727252        0.350485  4.429758e+11    241.152626   \n",
       "min        1.000000        0.000000  8.987060e+09      0.000000   \n",
       "25%    10277.500000        3.770000  9.780345e+12    192.000000   \n",
       "50%    20287.000000        3.960000  9.780582e+12    299.000000   \n",
       "75%    32104.500000        4.140000  9.780872e+12    416.000000   \n",
       "max    45641.000000        5.000000  9.790008e+12   6576.000000   \n",
       "\n",
       "       ratings_count  text_reviews_count  \n",
       "count   1.112300e+04        11123.000000  \n",
       "mean    1.794285e+04          542.048099  \n",
       "std     1.124992e+05         2576.619589  \n",
       "min     0.000000e+00            0.000000  \n",
       "25%     1.040000e+02            9.000000  \n",
       "50%     7.450000e+02           47.000000  \n",
       "75%     5.000500e+03          238.000000  \n",
       "max     4.597666e+06        94265.000000  "
      ]
     },
     "execution_count": 7,
     "metadata": {},
     "output_type": "execute_result"
    }
   ],
   "source": [
    "books.describe()"
   ]
  },
  {
   "cell_type": "code",
   "execution_count": 8,
   "metadata": {},
   "outputs": [
    {
     "data": {
      "text/html": [
       "<div>\n",
       "<style scoped>\n",
       "    .dataframe tbody tr th:only-of-type {\n",
       "        vertical-align: middle;\n",
       "    }\n",
       "\n",
       "    .dataframe tbody tr th {\n",
       "        vertical-align: top;\n",
       "    }\n",
       "\n",
       "    .dataframe thead th {\n",
       "        text-align: right;\n",
       "    }\n",
       "</style>\n",
       "<table border=\"1\" class=\"dataframe\">\n",
       "  <thead>\n",
       "    <tr style=\"text-align: right;\">\n",
       "      <th></th>\n",
       "      <th>bookID</th>\n",
       "      <th>title</th>\n",
       "      <th>authors</th>\n",
       "      <th>average_rating</th>\n",
       "      <th>isbn</th>\n",
       "      <th>isbn13</th>\n",
       "      <th>language_code</th>\n",
       "      <th>num_pages</th>\n",
       "      <th>ratings_count</th>\n",
       "      <th>text_reviews_count</th>\n",
       "      <th>publication_date</th>\n",
       "      <th>publisher</th>\n",
       "    </tr>\n",
       "  </thead>\n",
       "  <tbody>\n",
       "    <tr>\n",
       "      <th>count</th>\n",
       "      <td>11123.000000</td>\n",
       "      <td>11123</td>\n",
       "      <td>11123</td>\n",
       "      <td>11123.000000</td>\n",
       "      <td>11123</td>\n",
       "      <td>1.112300e+04</td>\n",
       "      <td>11123</td>\n",
       "      <td>11123.000000</td>\n",
       "      <td>1.112300e+04</td>\n",
       "      <td>11123.000000</td>\n",
       "      <td>11123</td>\n",
       "      <td>11123</td>\n",
       "    </tr>\n",
       "    <tr>\n",
       "      <th>unique</th>\n",
       "      <td>NaN</td>\n",
       "      <td>10348</td>\n",
       "      <td>6639</td>\n",
       "      <td>NaN</td>\n",
       "      <td>11123</td>\n",
       "      <td>NaN</td>\n",
       "      <td>27</td>\n",
       "      <td>NaN</td>\n",
       "      <td>NaN</td>\n",
       "      <td>NaN</td>\n",
       "      <td>3679</td>\n",
       "      <td>2290</td>\n",
       "    </tr>\n",
       "    <tr>\n",
       "      <th>top</th>\n",
       "      <td>NaN</td>\n",
       "      <td>The Brothers Karamazov</td>\n",
       "      <td>P.G. Wodehouse</td>\n",
       "      <td>NaN</td>\n",
       "      <td>0674995961</td>\n",
       "      <td>NaN</td>\n",
       "      <td>eng</td>\n",
       "      <td>NaN</td>\n",
       "      <td>NaN</td>\n",
       "      <td>NaN</td>\n",
       "      <td>10/1/2005</td>\n",
       "      <td>Vintage</td>\n",
       "    </tr>\n",
       "    <tr>\n",
       "      <th>freq</th>\n",
       "      <td>NaN</td>\n",
       "      <td>9</td>\n",
       "      <td>40</td>\n",
       "      <td>NaN</td>\n",
       "      <td>1</td>\n",
       "      <td>NaN</td>\n",
       "      <td>8908</td>\n",
       "      <td>NaN</td>\n",
       "      <td>NaN</td>\n",
       "      <td>NaN</td>\n",
       "      <td>56</td>\n",
       "      <td>318</td>\n",
       "    </tr>\n",
       "    <tr>\n",
       "      <th>mean</th>\n",
       "      <td>21310.856963</td>\n",
       "      <td>NaN</td>\n",
       "      <td>NaN</td>\n",
       "      <td>3.934075</td>\n",
       "      <td>NaN</td>\n",
       "      <td>9.759880e+12</td>\n",
       "      <td>NaN</td>\n",
       "      <td>336.405556</td>\n",
       "      <td>1.794285e+04</td>\n",
       "      <td>542.048099</td>\n",
       "      <td>NaN</td>\n",
       "      <td>NaN</td>\n",
       "    </tr>\n",
       "    <tr>\n",
       "      <th>std</th>\n",
       "      <td>13094.727252</td>\n",
       "      <td>NaN</td>\n",
       "      <td>NaN</td>\n",
       "      <td>0.350485</td>\n",
       "      <td>NaN</td>\n",
       "      <td>4.429758e+11</td>\n",
       "      <td>NaN</td>\n",
       "      <td>241.152626</td>\n",
       "      <td>1.124992e+05</td>\n",
       "      <td>2576.619589</td>\n",
       "      <td>NaN</td>\n",
       "      <td>NaN</td>\n",
       "    </tr>\n",
       "    <tr>\n",
       "      <th>min</th>\n",
       "      <td>1.000000</td>\n",
       "      <td>NaN</td>\n",
       "      <td>NaN</td>\n",
       "      <td>0.000000</td>\n",
       "      <td>NaN</td>\n",
       "      <td>8.987060e+09</td>\n",
       "      <td>NaN</td>\n",
       "      <td>0.000000</td>\n",
       "      <td>0.000000e+00</td>\n",
       "      <td>0.000000</td>\n",
       "      <td>NaN</td>\n",
       "      <td>NaN</td>\n",
       "    </tr>\n",
       "    <tr>\n",
       "      <th>25%</th>\n",
       "      <td>10277.500000</td>\n",
       "      <td>NaN</td>\n",
       "      <td>NaN</td>\n",
       "      <td>3.770000</td>\n",
       "      <td>NaN</td>\n",
       "      <td>9.780345e+12</td>\n",
       "      <td>NaN</td>\n",
       "      <td>192.000000</td>\n",
       "      <td>1.040000e+02</td>\n",
       "      <td>9.000000</td>\n",
       "      <td>NaN</td>\n",
       "      <td>NaN</td>\n",
       "    </tr>\n",
       "    <tr>\n",
       "      <th>50%</th>\n",
       "      <td>20287.000000</td>\n",
       "      <td>NaN</td>\n",
       "      <td>NaN</td>\n",
       "      <td>3.960000</td>\n",
       "      <td>NaN</td>\n",
       "      <td>9.780582e+12</td>\n",
       "      <td>NaN</td>\n",
       "      <td>299.000000</td>\n",
       "      <td>7.450000e+02</td>\n",
       "      <td>47.000000</td>\n",
       "      <td>NaN</td>\n",
       "      <td>NaN</td>\n",
       "    </tr>\n",
       "    <tr>\n",
       "      <th>75%</th>\n",
       "      <td>32104.500000</td>\n",
       "      <td>NaN</td>\n",
       "      <td>NaN</td>\n",
       "      <td>4.140000</td>\n",
       "      <td>NaN</td>\n",
       "      <td>9.780872e+12</td>\n",
       "      <td>NaN</td>\n",
       "      <td>416.000000</td>\n",
       "      <td>5.000500e+03</td>\n",
       "      <td>238.000000</td>\n",
       "      <td>NaN</td>\n",
       "      <td>NaN</td>\n",
       "    </tr>\n",
       "    <tr>\n",
       "      <th>max</th>\n",
       "      <td>45641.000000</td>\n",
       "      <td>NaN</td>\n",
       "      <td>NaN</td>\n",
       "      <td>5.000000</td>\n",
       "      <td>NaN</td>\n",
       "      <td>9.790008e+12</td>\n",
       "      <td>NaN</td>\n",
       "      <td>6576.000000</td>\n",
       "      <td>4.597666e+06</td>\n",
       "      <td>94265.000000</td>\n",
       "      <td>NaN</td>\n",
       "      <td>NaN</td>\n",
       "    </tr>\n",
       "  </tbody>\n",
       "</table>\n",
       "</div>"
      ],
      "text/plain": [
       "              bookID                   title         authors  average_rating  \\\n",
       "count   11123.000000                   11123           11123    11123.000000   \n",
       "unique           NaN                   10348            6639             NaN   \n",
       "top              NaN  The Brothers Karamazov  P.G. Wodehouse             NaN   \n",
       "freq             NaN                       9              40             NaN   \n",
       "mean    21310.856963                     NaN             NaN        3.934075   \n",
       "std     13094.727252                     NaN             NaN        0.350485   \n",
       "min         1.000000                     NaN             NaN        0.000000   \n",
       "25%     10277.500000                     NaN             NaN        3.770000   \n",
       "50%     20287.000000                     NaN             NaN        3.960000   \n",
       "75%     32104.500000                     NaN             NaN        4.140000   \n",
       "max     45641.000000                     NaN             NaN        5.000000   \n",
       "\n",
       "              isbn        isbn13 language_code     num_pages  ratings_count  \\\n",
       "count        11123  1.112300e+04         11123  11123.000000   1.112300e+04   \n",
       "unique       11123           NaN            27           NaN            NaN   \n",
       "top     0674995961           NaN           eng           NaN            NaN   \n",
       "freq             1           NaN          8908           NaN            NaN   \n",
       "mean           NaN  9.759880e+12           NaN    336.405556   1.794285e+04   \n",
       "std            NaN  4.429758e+11           NaN    241.152626   1.124992e+05   \n",
       "min            NaN  8.987060e+09           NaN      0.000000   0.000000e+00   \n",
       "25%            NaN  9.780345e+12           NaN    192.000000   1.040000e+02   \n",
       "50%            NaN  9.780582e+12           NaN    299.000000   7.450000e+02   \n",
       "75%            NaN  9.780872e+12           NaN    416.000000   5.000500e+03   \n",
       "max            NaN  9.790008e+12           NaN   6576.000000   4.597666e+06   \n",
       "\n",
       "        text_reviews_count publication_date publisher  \n",
       "count         11123.000000            11123     11123  \n",
       "unique                 NaN             3679      2290  \n",
       "top                    NaN        10/1/2005   Vintage  \n",
       "freq                   NaN               56       318  \n",
       "mean            542.048099              NaN       NaN  \n",
       "std            2576.619589              NaN       NaN  \n",
       "min               0.000000              NaN       NaN  \n",
       "25%               9.000000              NaN       NaN  \n",
       "50%              47.000000              NaN       NaN  \n",
       "75%             238.000000              NaN       NaN  \n",
       "max           94265.000000              NaN       NaN  "
      ]
     },
     "execution_count": 8,
     "metadata": {},
     "output_type": "execute_result"
    }
   ],
   "source": [
    "books.describe(include = \"all\")"
   ]
  },
  {
   "cell_type": "markdown",
   "metadata": {},
   "source": [
    "# Prepare the data\n",
    "\n",
    "There are so many reasons why we should prepare the data before actually using it for our analysis. And one of the main reasons would be to ensure that it does not give us inconsitent results"
   ]
  },
  {
   "cell_type": "markdown",
   "metadata": {},
   "source": [
    "## Check the datatypes of the data"
   ]
  },
  {
   "cell_type": "code",
   "execution_count": 9,
   "metadata": {},
   "outputs": [
    {
     "data": {
      "text/plain": [
       "bookID                  int64\n",
       "title                  object\n",
       "authors                object\n",
       "average_rating        float64\n",
       "isbn                   object\n",
       "isbn13                  int64\n",
       "language_code          object\n",
       "  num_pages             int64\n",
       "ratings_count           int64\n",
       "text_reviews_count      int64\n",
       "publication_date       object\n",
       "publisher              object\n",
       "dtype: object"
      ]
     },
     "execution_count": 9,
     "metadata": {},
     "output_type": "execute_result"
    }
   ],
   "source": [
    "books.dtypes"
   ]
  },
  {
   "cell_type": "code",
   "execution_count": 10,
   "metadata": {},
   "outputs": [
    {
     "data": {
      "text/plain": [
       "Index(['bookID', 'title', 'authors', 'average_rating', 'isbn', 'isbn13',\n",
       "       'language_code', 'num_pages', 'ratings_count', 'text_reviews_count',\n",
       "       'publication_date', 'publisher'],\n",
       "      dtype='object')"
      ]
     },
     "execution_count": 10,
     "metadata": {},
     "output_type": "execute_result"
    }
   ],
   "source": [
    "# renaming the column ' num_pages' to 'num_pages' (just removing the space from the column name)\n",
    "books.columns = ['bookID', 'title', 'authors', 'average_rating', 'isbn', 'isbn13',\n",
    "       'language_code', 'num_pages', 'ratings_count', 'text_reviews_count',\n",
    "       'publication_date', 'publisher']\n",
    "books.columns"
   ]
  },
  {
   "cell_type": "markdown",
   "metadata": {},
   "source": [
    "## Adjust the datatypes of the data"
   ]
  },
  {
   "cell_type": "code",
   "execution_count": 11,
   "metadata": {},
   "outputs": [],
   "source": [
    "books.title = books.title.astype('category')\n",
    "\n",
    "books.authors = books.authors.astype('category')\n",
    "\n",
    "books.language_code  = books.language_code.astype('category')\n",
    "\n",
    "books.publication_date = [d.date() for d in pd.to_datetime(books.publication_date.astype(str), format='%M/%d/%Y')]\n",
    "\n",
    "books.publisher  = books.publisher.astype('category')"
   ]
  },
  {
   "cell_type": "code",
   "execution_count": 12,
   "metadata": {},
   "outputs": [
    {
     "data": {
      "text/plain": [
       "bookID                   int64\n",
       "title                 category\n",
       "authors               category\n",
       "average_rating         float64\n",
       "isbn                    object\n",
       "isbn13                   int64\n",
       "language_code         category\n",
       "num_pages                int64\n",
       "ratings_count            int64\n",
       "text_reviews_count       int64\n",
       "publication_date        object\n",
       "publisher             category\n",
       "dtype: object"
      ]
     },
     "execution_count": 12,
     "metadata": {},
     "output_type": "execute_result"
    }
   ],
   "source": [
    "books.dtypes"
   ]
  },
  {
   "cell_type": "markdown",
   "metadata": {},
   "source": [
    "## Check for null values"
   ]
  },
  {
   "cell_type": "code",
   "execution_count": 13,
   "metadata": {},
   "outputs": [
    {
     "data": {
      "text/plain": [
       "bookID                0\n",
       "title                 0\n",
       "authors               0\n",
       "average_rating        0\n",
       "isbn                  0\n",
       "isbn13                0\n",
       "language_code         0\n",
       "num_pages             0\n",
       "ratings_count         0\n",
       "text_reviews_count    0\n",
       "publication_date      0\n",
       "publisher             0\n",
       "dtype: int64"
      ]
     },
     "execution_count": 13,
     "metadata": {},
     "output_type": "execute_result"
    }
   ],
   "source": [
    "books.isnull().sum()"
   ]
  },
  {
   "cell_type": "markdown",
   "metadata": {},
   "source": [
    "As we checked before there were no missing values, so nothing to worry about that! "
   ]
  },
  {
   "cell_type": "markdown",
   "metadata": {},
   "source": [
    "## Questions I want to uncover using this data :"
   ]
  },
  {
   "cell_type": "markdown",
   "metadata": {},
   "source": [
    "##### 1. Do books from certain publisher/authors tend to have high ratings? If yes, does this mean that most people have read books from those specific publishers/authors?"
   ]
  },
  {
   "cell_type": "markdown",
   "metadata": {
    "raw_mimetype": "text/markdown"
   },
   "source": [
    "##### Part 1 : Do books from certain publisher/author tend to have high ratings? "
   ]
  },
  {
   "cell_type": "code",
   "execution_count": 26,
   "metadata": {},
   "outputs": [],
   "source": [
    "def calculate(df, val, criteria, col, features, agg_fun, sort_asc, sort_val):\n",
    "    \"\"\"\n",
    "        description : this method uses groupby method for certain calculations\n",
    "        args:\n",
    "            df : dataframe\n",
    "            val : value required to satisfy certain condition\n",
    "            criteria : '=' or '>='\n",
    "            features : columns that liked to be retrieved\n",
    "            agg_fun : 'sum' or 'mean'\n",
    "            sort_asc : True or False (whether to sort ascending (True) or descending(false))\n",
    "            sort_val : to sort by particular column   \n",
    "        returns : new dataframe generated according to the criteria\n",
    "    \"\"\"\n",
    "    \n",
    "    calculate = pd.DataFrame()\n",
    "    if(agg_fun == 'sum'):\n",
    "        calculate = df.groupby(col, as_index = False)[features].sum().sort_values(ascending = sort_asc, by = sort_val).reset_index(drop=True)\n",
    "    elif(agg_fun == 'mean'):\n",
    "        calculate = df.groupby(col, as_index = False)[features].mean().sort_values(ascending = sort_asc, by = sort_val).reset_index(drop=True)\n",
    "    \n",
    "    if(criteria == '='):\n",
    "        calculate = calculate[calculate[sort_val] == val]\n",
    "    elif(criteria == '>='):\n",
    "        calculate = calculate[calculate[sort_val] >= val]\n",
    "    return calculate\n",
    " \n",
    "\n",
    "def plot(df, title, x_col, y_col ):\n",
    "    \"\"\"\n",
    "        description : used to plot the data\n",
    "        args:\n",
    "            title : title of the plot\n",
    "            x_col : x-axis column values\n",
    "            y_col : y-axis column values\n",
    "    \"\"\"\n",
    "        \n",
    "    df.plot.bar(x=x_col, y = y_col)\n",
    "    t = x_col.upper() + \" with \" + \"title \" \n",
    "    plt.title(t)\n",
    "    plt.rcParams['figure.figsize'] = [16 , 10]\n",
    "    plt.rcParams['axes.titlesize'] = 30\n",
    "    plt.rcParams['xtick.labelsize'] = 30\n",
    "    plt.rcParams['ytick.labelsize'] = 30\n",
    "    plt.xlabel(x_col.upper() , fontsize=30)\n",
    "    plt.ylabel(title.upper(), fontsize=30);\n",
    "    \n",
    "    \n",
    "def plot_criteria(df, title, x_col, y_col, val, criteria):\n",
    "    \"\"\"\n",
    "        description : used to plot the data\n",
    "        args:\n",
    "            title : title of the plot\n",
    "            x_col : x-axis column values\n",
    "            y_col : y-axis column values\n",
    "            val : value for which the data is being visualized\n",
    "            criteria : '=' or '>='\n",
    "    \"\"\"\n",
    "    \n",
    "    df.plot.bar(x=x_col, y = y_col);\n",
    "    t = x_col.upper() + \" with \" + \"title \" + str(criteria) + \" \" + str(val)\n",
    "    plt.title(t)\n",
    "    plt.rcParams['figure.figsize'] = [16 , 10]\n",
    "    plt.rcParams['axes.titlesize'] = 30\n",
    "    plt.rcParams['xtick.labelsize'] = 30\n",
    "    plt.rcParams['ytick.labelsize'] = 30\n",
    "    plt.xlabel(x_col.upper() , fontsize=30)\n",
    "    plt.ylabel(title.upper(), fontsize=30);\n",
    "    \n",
    "def plot_adjust_ylim_vals(df, title, x_col, y_col,  val, criteria, ylim_val1, yim_val2,):\n",
    "    \"\"\"\n",
    "        description : used to plot the data\n",
    "        args:\n",
    "            title : title of the plot\n",
    "            x_col : x-axis column values\n",
    "            y_col : y-axis column values\n",
    "            val : value for which the data is being visualized\n",
    "            criteria : '=' or '>='\n",
    "            ylim_val1 : starting point for y limit value\n",
    "            ylim_val2 : starting point for y limit value\n",
    "    \"\"\"\n",
    "    \n",
    "    df.plot.bar(x=x_col, y = y_col);\n",
    "    t = x_col.upper() + \" with \" + \"title \" + str(criteria) + \" \" + str(val)\n",
    "    plt.title(title)\n",
    "    plt.rcParams['figure.figsize'] = [16 , 10]\n",
    "    plt.ylim(4.5, 5.0 )\n",
    "    plt.rcParams['axes.titlesize'] = 30\n",
    "    plt.rcParams['xtick.labelsize'] = 30\n",
    "    plt.rcParams['ytick.labelsize'] = 30\n",
    "    plt.xlabel(x_col.upper() , fontsize=30)\n",
    "    plt.ylabel(title.upper(), fontsize=30);"
   ]
  },
  {
   "cell_type": "code",
   "execution_count": null,
   "metadata": {
    "scrolled": true
   },
   "outputs": [],
   "source": [
    "print(\"Publishers who have their mean average ratings = 5 : \\n\\n\")\n",
    "publisher_avg_rating_5 = calculate(books, 5, '=', 'publisher', ['publisher', 'average_rating'], 'mean', False, 'average_rating')\n",
    "publisher_avg_rating_5"
   ]
  },
  {
   "cell_type": "code",
   "execution_count": null,
   "metadata": {
    "scrolled": true
   },
   "outputs": [],
   "source": [
    "plot_criteria(publisher_avg_rating_5, \"mean average rating\", 'publisher', 'average_rating', 5, '=') "
   ]
  },
  {
   "cell_type": "code",
   "execution_count": null,
   "metadata": {
    "scrolled": true
   },
   "outputs": [],
   "source": [
    "print(\"\\n\\nPublishers who have their mean average ratings >= 4.7 : \\n\\n\")\n",
    "publisher_avg_rating_grte_4_7 = calculate(books, 4.7, '>=', 'publisher', [ 'average_rating'], 'mean', False, 'average_rating')\n",
    "publisher_avg_rating_grte_4_7.reset_index(drop = True)"
   ]
  },
  {
   "cell_type": "code",
   "execution_count": null,
   "metadata": {
    "scrolled": true
   },
   "outputs": [],
   "source": [
    "plot_criteria(publisher_avg_rating_grte_4_7, 'mean average rating', 'publisher', 'average_rating', 4.7, '>=')  \n"
   ]
  },
  {
   "cell_type": "markdown",
   "metadata": {},
   "source": [
    "#### After adjusting the y-axis values"
   ]
  },
  {
   "cell_type": "code",
   "execution_count": null,
   "metadata": {
    "scrolled": true
   },
   "outputs": [],
   "source": [
    "plot_adjust_ylim_vals(publisher_avg_rating_grte_4_7, 'mean average rating', 'publisher', 'average_rating', 4.7, '>=', 4.5, 5.0)"
   ]
  },
  {
   "cell_type": "code",
   "execution_count": null,
   "metadata": {
    "scrolled": true
   },
   "outputs": [],
   "source": [
    "author_avg_rating_5 = calculate(books, 5, '=', 'authors',['average_rating'],  'mean', False, 'average_rating')\n",
    "print(\"\\n\\nAuthors who have their mean of average ratings = 5 : \\n\\n\")\n",
    "author_avg_rating_5.reset_index(drop = True)"
   ]
  },
  {
   "cell_type": "code",
   "execution_count": null,
   "metadata": {
    "scrolled": true
   },
   "outputs": [],
   "source": [
    "print(\"\\n\\Authors who have their mean average ratings >= 4.7 : \\n\\n\")\n",
    "author_avg_rating_grte_4_7 = calculate(books, 4.7, '>=', 'authors', ['authors', 'average_rating'], 'mean', False, 'average_rating')\n",
    "author_avg_rating_grte_4_7"
   ]
  },
  {
   "cell_type": "code",
   "execution_count": null,
   "metadata": {
    "scrolled": true
   },
   "outputs": [],
   "source": [
    "plot_criteria(author_avg_rating_grte_4_7, 'mean average rating', 'authors', 'average_rating', 4.7, '>=')  \n"
   ]
  },
  {
   "cell_type": "markdown",
   "metadata": {},
   "source": [
    "#### After adjusting the y-axis values"
   ]
  },
  {
   "cell_type": "code",
   "execution_count": null,
   "metadata": {
    "scrolled": true
   },
   "outputs": [],
   "source": [
    "plot_adjust_ylim_vals(author_avg_rating_grte_4_7,  'mean average rating', 'authors', 'average_rating', 4.7, '>=',  4.5, 5.0) "
   ]
  },
  {
   "cell_type": "markdown",
   "metadata": {},
   "source": [
    "##### Part 2: If yes, does this mean that most people have read books from those specific publishers/authors?"
   ]
  },
  {
   "cell_type": "code",
   "execution_count": null,
   "metadata": {
    "scrolled": true
   },
   "outputs": [],
   "source": [
    "print(\"\\nPUBLISHER :\\n\")\n",
    "print(\"\\nWith total rating counts >= 1.5m : \\n\\n\")\n",
    "publisher_ratings_count_1_5m = calculate(books, 1500000, '>=', 'publisher',  ['ratings_count'], 'sum', False, 'ratings_count')\n",
    "publisher_ratings_count_1_5m"
   ]
  },
  {
   "cell_type": "code",
   "execution_count": null,
   "metadata": {},
   "outputs": [],
   "source": [
    "\n",
    "plot_criteria(publisher_ratings_count_1_5m, 'total ratings count', 'publisher', 'ratings_count', '1.5m', '>=')"
   ]
  },
  {
   "cell_type": "code",
   "execution_count": null,
   "metadata": {
    "scrolled": true
   },
   "outputs": [],
   "source": [
    "print(\"\\nAUTHORS :\\n\")\n",
    "print(\"\\nWith total rating counts >= 1.5m : \\n\\n\")\n",
    "author_ratings_count_1_5m = calculate(books, 1500000, '>=', 'authors',  ['ratings_count'], 'sum', False, 'ratings_count') #df, val, criteria, col, features, agg_fun, sort_asc, sort_val\n",
    "author_ratings_count_1_5m"
   ]
  },
  {
   "cell_type": "code",
   "execution_count": null,
   "metadata": {
    "scrolled": true
   },
   "outputs": [],
   "source": [
    "plot_criteria(author_ratings_count_1_5m, 'total ratings count', 'authors', 'ratings_count', '1.5m', '>=') #df, title, x_col, y_col, val, criteria"
   ]
  },
  {
   "cell_type": "markdown",
   "metadata": {},
   "source": [
    "##### 2. Books from which year has more ratings count?\n"
   ]
  },
  {
   "cell_type": "code",
   "execution_count": null,
   "metadata": {},
   "outputs": [],
   "source": [
    "pub_date_ratings_count = books.groupby(['publication_date'], as_index = False)['ratings_count'].sum().sort_values(ascending = False, by ='ratings_count')\n",
    "pub_date_ratings_count['year'] = [d.year for d in pub_date_ratings_count.publication_date]\n",
    "pub_date_ratings_count = pub_date_ratings_count.groupby(['year'], as_index = False)['ratings_count'].sum().sort_values(ascending = True, by ='year')\n",
    "pub_date_ratings_count_1m = pub_date_ratings_count[pub_date_ratings_count.ratings_count >= 1500000]"
   ]
  },
  {
   "cell_type": "code",
   "execution_count": null,
   "metadata": {
    "scrolled": true
   },
   "outputs": [],
   "source": [
    "plot(pub_date_ratings_count_1m, 'total according to year', 'year', 'ratings_count') "
   ]
  },
  {
   "cell_type": "code",
   "execution_count": null,
   "metadata": {
    "scrolled": true
   },
   "outputs": [],
   "source": [
    "pub_date_ratings_count_1m.plot.bar(x=\"year\", y = 'ratings_count');\n",
    "plt.xticks(rotation = 90)\n",
    "plt.title(\"Ratings count according to year\")\n",
    "plt.rcParams['figure.figsize'] = [16 , 10]\n",
    "plt.rcParams['axes.titlesize'] = 30\n",
    "plt.rcParams['xtick.labelsize'] = 30\n",
    "plt.rcParams['ytick.labelsize'] = 30\n",
    "plt.xlabel('YEAR', fontsize=30)\n",
    "plt.ylabel('TOTAL RATINGS COUNT', fontsize=30);"
   ]
  },
  {
   "cell_type": "markdown",
   "metadata": {},
   "source": [
    "##### 3. Do people read books with maximum number of pages?"
   ]
  },
  {
   "cell_type": "code",
   "execution_count": null,
   "metadata": {},
   "outputs": [],
   "source": [
    "books[books.num_pages == books.num_pages.max()][['title', 'authors', 'average_rating', 'num_pages', 'ratings_count' ]]"
   ]
  },
  {
   "cell_type": "code",
   "execution_count": null,
   "metadata": {},
   "outputs": [],
   "source": [
    "books_huge_num_pages_title = books[['title', 'authors', 'average_rating', 'num_pages', 'ratings_count']][books.num_pages >= 1500]\n",
    "books_huge_num_pages_title.sort_values(ascending = False, by = 'num_pages').reset_index(drop=True)"
   ]
  },
  {
   "cell_type": "markdown",
   "metadata": {},
   "source": [
    "## That's all folks!\n",
    "You can find the detailed explanation as a part of medium article <a href = \"https://towardsdatascience.com/do-you-read-c545f652eff3\" > here </a> ."
   ]
  }
 ],
 "metadata": {
  "celltoolbar": "Raw Cell Format",
  "kernelspec": {
   "display_name": "Python 3",
   "language": "python",
   "name": "python3"
  },
  "language_info": {
   "codemirror_mode": {
    "name": "ipython",
    "version": 3
   },
   "file_extension": ".py",
   "mimetype": "text/x-python",
   "name": "python",
   "nbconvert_exporter": "python",
   "pygments_lexer": "ipython3",
   "version": "3.7.6"
  }
 },
 "nbformat": 4,
 "nbformat_minor": 4
}
