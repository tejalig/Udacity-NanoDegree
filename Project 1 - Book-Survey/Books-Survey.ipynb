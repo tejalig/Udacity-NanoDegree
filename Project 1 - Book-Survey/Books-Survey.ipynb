{
 "cells": [
  {
   "cell_type": "markdown",
   "metadata": {},
   "source": [
    "## Import necessary libraires"
   ]
  },
  {
   "cell_type": "code",
   "execution_count": 1,
   "metadata": {},
   "outputs": [],
   "source": [
    "import pandas as pd\n",
    "import matplotlib.pyplot as plt\n",
    "import numpy as np\n",
    "import seaborn as sns\n",
    "sns.set()"
   ]
  },
  {
   "cell_type": "markdown",
   "metadata": {},
   "source": [
    "## Import the dataset"
   ]
  },
  {
   "cell_type": "code",
   "execution_count": 2,
   "metadata": {},
   "outputs": [
    {
     "ename": "ParserError",
     "evalue": "Error tokenizing data. C error: Expected 12 fields in line 3350, saw 13\n",
     "output_type": "error",
     "traceback": [
      "\u001b[1;31m---------------------------------------------------------------------------\u001b[0m",
      "\u001b[1;31mParserError\u001b[0m                               Traceback (most recent call last)",
      "\u001b[1;32m<ipython-input-2-d2a14aba72f6>\u001b[0m in \u001b[0;36m<module>\u001b[1;34m\u001b[0m\n\u001b[1;32m----> 1\u001b[1;33m \u001b[0mbooks\u001b[0m \u001b[1;33m=\u001b[0m \u001b[0mpd\u001b[0m\u001b[1;33m.\u001b[0m\u001b[0mread_csv\u001b[0m\u001b[1;33m(\u001b[0m\u001b[1;34m'books.csv'\u001b[0m\u001b[1;33m)\u001b[0m\u001b[1;33m\u001b[0m\u001b[1;33m\u001b[0m\u001b[0m\n\u001b[0m",
      "\u001b[1;32mC:\\ProgramData\\Anaconda3\\lib\\site-packages\\pandas\\io\\parsers.py\u001b[0m in \u001b[0;36mparser_f\u001b[1;34m(filepath_or_buffer, sep, delimiter, header, names, index_col, usecols, squeeze, prefix, mangle_dupe_cols, dtype, engine, converters, true_values, false_values, skipinitialspace, skiprows, skipfooter, nrows, na_values, keep_default_na, na_filter, verbose, skip_blank_lines, parse_dates, infer_datetime_format, keep_date_col, date_parser, dayfirst, cache_dates, iterator, chunksize, compression, thousands, decimal, lineterminator, quotechar, quoting, doublequote, escapechar, comment, encoding, dialect, error_bad_lines, warn_bad_lines, delim_whitespace, low_memory, memory_map, float_precision)\u001b[0m\n\u001b[0;32m    674\u001b[0m         )\n\u001b[0;32m    675\u001b[0m \u001b[1;33m\u001b[0m\u001b[0m\n\u001b[1;32m--> 676\u001b[1;33m         \u001b[1;32mreturn\u001b[0m \u001b[0m_read\u001b[0m\u001b[1;33m(\u001b[0m\u001b[0mfilepath_or_buffer\u001b[0m\u001b[1;33m,\u001b[0m \u001b[0mkwds\u001b[0m\u001b[1;33m)\u001b[0m\u001b[1;33m\u001b[0m\u001b[1;33m\u001b[0m\u001b[0m\n\u001b[0m\u001b[0;32m    677\u001b[0m \u001b[1;33m\u001b[0m\u001b[0m\n\u001b[0;32m    678\u001b[0m     \u001b[0mparser_f\u001b[0m\u001b[1;33m.\u001b[0m\u001b[0m__name__\u001b[0m \u001b[1;33m=\u001b[0m \u001b[0mname\u001b[0m\u001b[1;33m\u001b[0m\u001b[1;33m\u001b[0m\u001b[0m\n",
      "\u001b[1;32mC:\\ProgramData\\Anaconda3\\lib\\site-packages\\pandas\\io\\parsers.py\u001b[0m in \u001b[0;36m_read\u001b[1;34m(filepath_or_buffer, kwds)\u001b[0m\n\u001b[0;32m    452\u001b[0m \u001b[1;33m\u001b[0m\u001b[0m\n\u001b[0;32m    453\u001b[0m     \u001b[1;32mtry\u001b[0m\u001b[1;33m:\u001b[0m\u001b[1;33m\u001b[0m\u001b[1;33m\u001b[0m\u001b[0m\n\u001b[1;32m--> 454\u001b[1;33m         \u001b[0mdata\u001b[0m \u001b[1;33m=\u001b[0m \u001b[0mparser\u001b[0m\u001b[1;33m.\u001b[0m\u001b[0mread\u001b[0m\u001b[1;33m(\u001b[0m\u001b[0mnrows\u001b[0m\u001b[1;33m)\u001b[0m\u001b[1;33m\u001b[0m\u001b[1;33m\u001b[0m\u001b[0m\n\u001b[0m\u001b[0;32m    455\u001b[0m     \u001b[1;32mfinally\u001b[0m\u001b[1;33m:\u001b[0m\u001b[1;33m\u001b[0m\u001b[1;33m\u001b[0m\u001b[0m\n\u001b[0;32m    456\u001b[0m         \u001b[0mparser\u001b[0m\u001b[1;33m.\u001b[0m\u001b[0mclose\u001b[0m\u001b[1;33m(\u001b[0m\u001b[1;33m)\u001b[0m\u001b[1;33m\u001b[0m\u001b[1;33m\u001b[0m\u001b[0m\n",
      "\u001b[1;32mC:\\ProgramData\\Anaconda3\\lib\\site-packages\\pandas\\io\\parsers.py\u001b[0m in \u001b[0;36mread\u001b[1;34m(self, nrows)\u001b[0m\n\u001b[0;32m   1131\u001b[0m     \u001b[1;32mdef\u001b[0m \u001b[0mread\u001b[0m\u001b[1;33m(\u001b[0m\u001b[0mself\u001b[0m\u001b[1;33m,\u001b[0m \u001b[0mnrows\u001b[0m\u001b[1;33m=\u001b[0m\u001b[1;32mNone\u001b[0m\u001b[1;33m)\u001b[0m\u001b[1;33m:\u001b[0m\u001b[1;33m\u001b[0m\u001b[1;33m\u001b[0m\u001b[0m\n\u001b[0;32m   1132\u001b[0m         \u001b[0mnrows\u001b[0m \u001b[1;33m=\u001b[0m \u001b[0m_validate_integer\u001b[0m\u001b[1;33m(\u001b[0m\u001b[1;34m\"nrows\"\u001b[0m\u001b[1;33m,\u001b[0m \u001b[0mnrows\u001b[0m\u001b[1;33m)\u001b[0m\u001b[1;33m\u001b[0m\u001b[1;33m\u001b[0m\u001b[0m\n\u001b[1;32m-> 1133\u001b[1;33m         \u001b[0mret\u001b[0m \u001b[1;33m=\u001b[0m \u001b[0mself\u001b[0m\u001b[1;33m.\u001b[0m\u001b[0m_engine\u001b[0m\u001b[1;33m.\u001b[0m\u001b[0mread\u001b[0m\u001b[1;33m(\u001b[0m\u001b[0mnrows\u001b[0m\u001b[1;33m)\u001b[0m\u001b[1;33m\u001b[0m\u001b[1;33m\u001b[0m\u001b[0m\n\u001b[0m\u001b[0;32m   1134\u001b[0m \u001b[1;33m\u001b[0m\u001b[0m\n\u001b[0;32m   1135\u001b[0m         \u001b[1;31m# May alter columns / col_dict\u001b[0m\u001b[1;33m\u001b[0m\u001b[1;33m\u001b[0m\u001b[1;33m\u001b[0m\u001b[0m\n",
      "\u001b[1;32mC:\\ProgramData\\Anaconda3\\lib\\site-packages\\pandas\\io\\parsers.py\u001b[0m in \u001b[0;36mread\u001b[1;34m(self, nrows)\u001b[0m\n\u001b[0;32m   2035\u001b[0m     \u001b[1;32mdef\u001b[0m \u001b[0mread\u001b[0m\u001b[1;33m(\u001b[0m\u001b[0mself\u001b[0m\u001b[1;33m,\u001b[0m \u001b[0mnrows\u001b[0m\u001b[1;33m=\u001b[0m\u001b[1;32mNone\u001b[0m\u001b[1;33m)\u001b[0m\u001b[1;33m:\u001b[0m\u001b[1;33m\u001b[0m\u001b[1;33m\u001b[0m\u001b[0m\n\u001b[0;32m   2036\u001b[0m         \u001b[1;32mtry\u001b[0m\u001b[1;33m:\u001b[0m\u001b[1;33m\u001b[0m\u001b[1;33m\u001b[0m\u001b[0m\n\u001b[1;32m-> 2037\u001b[1;33m             \u001b[0mdata\u001b[0m \u001b[1;33m=\u001b[0m \u001b[0mself\u001b[0m\u001b[1;33m.\u001b[0m\u001b[0m_reader\u001b[0m\u001b[1;33m.\u001b[0m\u001b[0mread\u001b[0m\u001b[1;33m(\u001b[0m\u001b[0mnrows\u001b[0m\u001b[1;33m)\u001b[0m\u001b[1;33m\u001b[0m\u001b[1;33m\u001b[0m\u001b[0m\n\u001b[0m\u001b[0;32m   2038\u001b[0m         \u001b[1;32mexcept\u001b[0m \u001b[0mStopIteration\u001b[0m\u001b[1;33m:\u001b[0m\u001b[1;33m\u001b[0m\u001b[1;33m\u001b[0m\u001b[0m\n\u001b[0;32m   2039\u001b[0m             \u001b[1;32mif\u001b[0m \u001b[0mself\u001b[0m\u001b[1;33m.\u001b[0m\u001b[0m_first_chunk\u001b[0m\u001b[1;33m:\u001b[0m\u001b[1;33m\u001b[0m\u001b[1;33m\u001b[0m\u001b[0m\n",
      "\u001b[1;32mpandas\\_libs\\parsers.pyx\u001b[0m in \u001b[0;36mpandas._libs.parsers.TextReader.read\u001b[1;34m()\u001b[0m\n",
      "\u001b[1;32mpandas\\_libs\\parsers.pyx\u001b[0m in \u001b[0;36mpandas._libs.parsers.TextReader._read_low_memory\u001b[1;34m()\u001b[0m\n",
      "\u001b[1;32mpandas\\_libs\\parsers.pyx\u001b[0m in \u001b[0;36mpandas._libs.parsers.TextReader._read_rows\u001b[1;34m()\u001b[0m\n",
      "\u001b[1;32mpandas\\_libs\\parsers.pyx\u001b[0m in \u001b[0;36mpandas._libs.parsers.TextReader._tokenize_rows\u001b[1;34m()\u001b[0m\n",
      "\u001b[1;32mpandas\\_libs\\parsers.pyx\u001b[0m in \u001b[0;36mpandas._libs.parsers.raise_parser_error\u001b[1;34m()\u001b[0m\n",
      "\u001b[1;31mParserError\u001b[0m: Error tokenizing data. C error: Expected 12 fields in line 3350, saw 13\n"
     ]
    }
   ],
   "source": [
    "books = pd.read_csv('books.csv')"
   ]
  },
  {
   "cell_type": "code",
   "execution_count": 3,
   "metadata": {},
   "outputs": [
    {
     "name": "stderr",
     "output_type": "stream",
     "text": [
      "b'Skipping line 3350: expected 12 fields, saw 13\\nSkipping line 4704: expected 12 fields, saw 13\\nSkipping line 5879: expected 12 fields, saw 13\\nSkipping line 8981: expected 12 fields, saw 13\\n'\n"
     ]
    }
   ],
   "source": [
    "books = pd.read_csv('books.csv', error_bad_lines = False)"
   ]
  },
  {
   "cell_type": "markdown",
   "metadata": {},
   "source": [
    "## Let's check the number of rows and columns in our dataset"
   ]
  },
  {
   "cell_type": "code",
   "execution_count": 4,
   "metadata": {},
   "outputs": [
    {
     "name": "stdout",
     "output_type": "stream",
     "text": [
      "There are  11123 number of ROWS and  12 number of COLUMNS!\n"
     ]
    }
   ],
   "source": [
    "print(\"There are \", books.shape[0], \"number of ROWS and \", \n",
    "      books.shape[1], \"number of COLUMNS!\")"
   ]
  },
  {
   "cell_type": "code",
   "execution_count": 5,
   "metadata": {},
   "outputs": [
    {
     "data": {
      "text/html": [
       "<div>\n",
       "<style scoped>\n",
       "    .dataframe tbody tr th:only-of-type {\n",
       "        vertical-align: middle;\n",
       "    }\n",
       "\n",
       "    .dataframe tbody tr th {\n",
       "        vertical-align: top;\n",
       "    }\n",
       "\n",
       "    .dataframe thead th {\n",
       "        text-align: right;\n",
       "    }\n",
       "</style>\n",
       "<table border=\"1\" class=\"dataframe\">\n",
       "  <thead>\n",
       "    <tr style=\"text-align: right;\">\n",
       "      <th></th>\n",
       "      <th>bookID</th>\n",
       "      <th>title</th>\n",
       "      <th>authors</th>\n",
       "      <th>average_rating</th>\n",
       "      <th>isbn</th>\n",
       "      <th>isbn13</th>\n",
       "      <th>language_code</th>\n",
       "      <th>num_pages</th>\n",
       "      <th>ratings_count</th>\n",
       "      <th>text_reviews_count</th>\n",
       "      <th>publication_date</th>\n",
       "      <th>publisher</th>\n",
       "    </tr>\n",
       "  </thead>\n",
       "  <tbody>\n",
       "    <tr>\n",
       "      <th>0</th>\n",
       "      <td>12</td>\n",
       "      <td>The Ultimate Hitchhiker's Guide: Five Complete...</td>\n",
       "      <td>Douglas Adams</td>\n",
       "      <td>4.38</td>\n",
       "      <td>0517226952</td>\n",
       "      <td>9780517226957</td>\n",
       "      <td>eng</td>\n",
       "      <td>815</td>\n",
       "      <td>3628</td>\n",
       "      <td>254</td>\n",
       "      <td>11/1/2005</td>\n",
       "      <td>Gramercy Books</td>\n",
       "    </tr>\n",
       "    <tr>\n",
       "      <th>1</th>\n",
       "      <td>13</td>\n",
       "      <td>The Ultimate Hitchhiker's Guide to the Galaxy ...</td>\n",
       "      <td>Douglas Adams</td>\n",
       "      <td>4.38</td>\n",
       "      <td>0345453743</td>\n",
       "      <td>9780345453747</td>\n",
       "      <td>eng</td>\n",
       "      <td>815</td>\n",
       "      <td>249558</td>\n",
       "      <td>4080</td>\n",
       "      <td>4/30/2002</td>\n",
       "      <td>Del Rey Books</td>\n",
       "    </tr>\n",
       "    <tr>\n",
       "      <th>2</th>\n",
       "      <td>14</td>\n",
       "      <td>The Hitchhiker's Guide to the Galaxy (Hitchhik...</td>\n",
       "      <td>Douglas Adams</td>\n",
       "      <td>4.22</td>\n",
       "      <td>1400052920</td>\n",
       "      <td>9781400052929</td>\n",
       "      <td>eng</td>\n",
       "      <td>215</td>\n",
       "      <td>4930</td>\n",
       "      <td>460</td>\n",
       "      <td>8/3/2004</td>\n",
       "      <td>Crown</td>\n",
       "    </tr>\n",
       "    <tr>\n",
       "      <th>3</th>\n",
       "      <td>16</td>\n",
       "      <td>The Hitchhiker's Guide to the Galaxy (Hitchhik...</td>\n",
       "      <td>Douglas Adams/Stephen Fry</td>\n",
       "      <td>4.22</td>\n",
       "      <td>0739322206</td>\n",
       "      <td>9780739322208</td>\n",
       "      <td>eng</td>\n",
       "      <td>6</td>\n",
       "      <td>1266</td>\n",
       "      <td>253</td>\n",
       "      <td>3/23/2005</td>\n",
       "      <td>Random House Audio</td>\n",
       "    </tr>\n",
       "    <tr>\n",
       "      <th>4</th>\n",
       "      <td>18</td>\n",
       "      <td>The Ultimate Hitchhiker's Guide (Hitchhiker's ...</td>\n",
       "      <td>Douglas Adams</td>\n",
       "      <td>4.38</td>\n",
       "      <td>0517149257</td>\n",
       "      <td>9780517149256</td>\n",
       "      <td>eng</td>\n",
       "      <td>815</td>\n",
       "      <td>2877</td>\n",
       "      <td>195</td>\n",
       "      <td>1/17/1996</td>\n",
       "      <td>Wings Books</td>\n",
       "    </tr>\n",
       "  </tbody>\n",
       "</table>\n",
       "</div>"
      ],
      "text/plain": [
       "   bookID                                              title  \\\n",
       "0      12  The Ultimate Hitchhiker's Guide: Five Complete...   \n",
       "1      13  The Ultimate Hitchhiker's Guide to the Galaxy ...   \n",
       "2      14  The Hitchhiker's Guide to the Galaxy (Hitchhik...   \n",
       "3      16  The Hitchhiker's Guide to the Galaxy (Hitchhik...   \n",
       "4      18  The Ultimate Hitchhiker's Guide (Hitchhiker's ...   \n",
       "\n",
       "                     authors  average_rating        isbn         isbn13  \\\n",
       "0              Douglas Adams            4.38  0517226952  9780517226957   \n",
       "1              Douglas Adams            4.38  0345453743  9780345453747   \n",
       "2              Douglas Adams            4.22  1400052920  9781400052929   \n",
       "3  Douglas Adams/Stephen Fry            4.22  0739322206  9780739322208   \n",
       "4              Douglas Adams            4.38  0517149257  9780517149256   \n",
       "\n",
       "  language_code    num_pages  ratings_count  text_reviews_count  \\\n",
       "0           eng          815           3628                 254   \n",
       "1           eng          815         249558                4080   \n",
       "2           eng          215           4930                 460   \n",
       "3           eng            6           1266                 253   \n",
       "4           eng          815           2877                 195   \n",
       "\n",
       "  publication_date           publisher  \n",
       "0        11/1/2005      Gramercy Books  \n",
       "1        4/30/2002       Del Rey Books  \n",
       "2         8/3/2004               Crown  \n",
       "3        3/23/2005  Random House Audio  \n",
       "4        1/17/1996         Wings Books  "
      ]
     },
     "execution_count": 5,
     "metadata": {},
     "output_type": "execute_result"
    }
   ],
   "source": [
    "books.head()"
   ]
  },
  {
   "cell_type": "code",
   "execution_count": 6,
   "metadata": {},
   "outputs": [
    {
     "data": {
      "text/html": [
       "<div>\n",
       "<style scoped>\n",
       "    .dataframe tbody tr th:only-of-type {\n",
       "        vertical-align: middle;\n",
       "    }\n",
       "\n",
       "    .dataframe tbody tr th {\n",
       "        vertical-align: top;\n",
       "    }\n",
       "\n",
       "    .dataframe thead th {\n",
       "        text-align: right;\n",
       "    }\n",
       "</style>\n",
       "<table border=\"1\" class=\"dataframe\">\n",
       "  <thead>\n",
       "    <tr style=\"text-align: right;\">\n",
       "      <th></th>\n",
       "      <th>bookID</th>\n",
       "      <th>title</th>\n",
       "      <th>authors</th>\n",
       "      <th>average_rating</th>\n",
       "      <th>isbn</th>\n",
       "      <th>isbn13</th>\n",
       "      <th>language_code</th>\n",
       "      <th>num_pages</th>\n",
       "      <th>ratings_count</th>\n",
       "      <th>text_reviews_count</th>\n",
       "      <th>publication_date</th>\n",
       "      <th>publisher</th>\n",
       "    </tr>\n",
       "  </thead>\n",
       "  <tbody>\n",
       "    <tr>\n",
       "      <th>6861</th>\n",
       "      <td>25849</td>\n",
       "      <td>The Drifting Classroom  Vol. 1</td>\n",
       "      <td>Kazuo Umezu</td>\n",
       "      <td>3.79</td>\n",
       "      <td>1421507226</td>\n",
       "      <td>9781421507224</td>\n",
       "      <td>en-US</td>\n",
       "      <td>190</td>\n",
       "      <td>1535</td>\n",
       "      <td>107</td>\n",
       "      <td>8/8/2006</td>\n",
       "      <td>VIZ Media LLC</td>\n",
       "    </tr>\n",
       "    <tr>\n",
       "      <th>5503</th>\n",
       "      <td>19909</td>\n",
       "      <td>Master of the Night (Mageverse #1)</td>\n",
       "      <td>Angela Knight</td>\n",
       "      <td>3.88</td>\n",
       "      <td>0425198804</td>\n",
       "      <td>9780425198803</td>\n",
       "      <td>eng</td>\n",
       "      <td>296</td>\n",
       "      <td>4637</td>\n",
       "      <td>125</td>\n",
       "      <td>10/5/2004</td>\n",
       "      <td>Berkley Sensation</td>\n",
       "    </tr>\n",
       "    <tr>\n",
       "      <th>9900</th>\n",
       "      <td>39899</td>\n",
       "      <td>Arms and Armor: A Pictorial Archive from Ninet...</td>\n",
       "      <td>Carol Belanger Grafton</td>\n",
       "      <td>3.96</td>\n",
       "      <td>0486285618</td>\n",
       "      <td>9780486285610</td>\n",
       "      <td>eng</td>\n",
       "      <td>128</td>\n",
       "      <td>26</td>\n",
       "      <td>1</td>\n",
       "      <td>7/25/1995</td>\n",
       "      <td>Dover Publications</td>\n",
       "    </tr>\n",
       "    <tr>\n",
       "      <th>4350</th>\n",
       "      <td>15647</td>\n",
       "      <td>The Inferno of Dante: A New Verse Translation ...</td>\n",
       "      <td>Dante Alighieri/Robert Pinsky/Michael Mazur</td>\n",
       "      <td>4.00</td>\n",
       "      <td>0374525315</td>\n",
       "      <td>9780374525316</td>\n",
       "      <td>mul</td>\n",
       "      <td>464</td>\n",
       "      <td>657</td>\n",
       "      <td>94</td>\n",
       "      <td>9/1/1997</td>\n",
       "      <td>Farrar  Straus and Giroux</td>\n",
       "    </tr>\n",
       "    <tr>\n",
       "      <th>3422</th>\n",
       "      <td>12497</td>\n",
       "      <td>No Country for Old Men</td>\n",
       "      <td>Cormac McCarthy</td>\n",
       "      <td>4.14</td>\n",
       "      <td>0375706674</td>\n",
       "      <td>9780375706677</td>\n",
       "      <td>eng</td>\n",
       "      <td>309</td>\n",
       "      <td>120421</td>\n",
       "      <td>6140</td>\n",
       "      <td>7/11/2006</td>\n",
       "      <td>Vintage</td>\n",
       "    </tr>\n",
       "  </tbody>\n",
       "</table>\n",
       "</div>"
      ],
      "text/plain": [
       "      bookID                                              title  \\\n",
       "6861   25849                     The Drifting Classroom  Vol. 1   \n",
       "5503   19909                 Master of the Night (Mageverse #1)   \n",
       "9900   39899  Arms and Armor: A Pictorial Archive from Ninet...   \n",
       "4350   15647  The Inferno of Dante: A New Verse Translation ...   \n",
       "3422   12497                             No Country for Old Men   \n",
       "\n",
       "                                          authors  average_rating        isbn  \\\n",
       "6861                                  Kazuo Umezu            3.79  1421507226   \n",
       "5503                                Angela Knight            3.88  0425198804   \n",
       "9900                       Carol Belanger Grafton            3.96  0486285618   \n",
       "4350  Dante Alighieri/Robert Pinsky/Michael Mazur            4.00  0374525315   \n",
       "3422                              Cormac McCarthy            4.14  0375706674   \n",
       "\n",
       "             isbn13 language_code    num_pages  ratings_count  \\\n",
       "6861  9781421507224         en-US          190           1535   \n",
       "5503  9780425198803           eng          296           4637   \n",
       "9900  9780486285610           eng          128             26   \n",
       "4350  9780374525316           mul          464            657   \n",
       "3422  9780375706677           eng          309         120421   \n",
       "\n",
       "      text_reviews_count publication_date                  publisher  \n",
       "6861                 107         8/8/2006              VIZ Media LLC  \n",
       "5503                 125        10/5/2004          Berkley Sensation  \n",
       "9900                   1        7/25/1995         Dover Publications  \n",
       "4350                  94         9/1/1997  Farrar  Straus and Giroux  \n",
       "3422                6140        7/11/2006                    Vintage  "
      ]
     },
     "execution_count": 6,
     "metadata": {},
     "output_type": "execute_result"
    }
   ],
   "source": [
    "books.sample(n = 5)"
   ]
  },
  {
   "cell_type": "markdown",
   "metadata": {},
   "source": [
    "## Check for the variables in this dataset"
   ]
  },
  {
   "cell_type": "code",
   "execution_count": 7,
   "metadata": {},
   "outputs": [
    {
     "data": {
      "text/plain": [
       "Index(['bookID', 'title', 'authors', 'average_rating', 'isbn', 'isbn13',\n",
       "       'language_code', '  num_pages', 'ratings_count', 'text_reviews_count',\n",
       "       'publication_date', 'publisher'],\n",
       "      dtype='object')"
      ]
     },
     "execution_count": 7,
     "metadata": {},
     "output_type": "execute_result"
    }
   ],
   "source": [
    "books.columns"
   ]
  },
  {
   "cell_type": "markdown",
   "metadata": {},
   "source": [
    "## Questions I want to uncover using this data :\n",
    "1. Do books from certain publisher/author tend to have high ratings?\n",
    "2. Which books from certain period are have more rating?\n",
    "3. Can more ratings mean that the book is more popular?"
   ]
  },
  {
   "cell_type": "markdown",
   "metadata": {},
   "source": [
    "## Before finding solutions to our questions, let's see if our data is suitable to help us"
   ]
  },
  {
   "cell_type": "markdown",
   "metadata": {},
   "source": [
    "## Check for null values"
   ]
  },
  {
   "cell_type": "code",
   "execution_count": 8,
   "metadata": {},
   "outputs": [
    {
     "data": {
      "text/plain": [
       "bookID                0\n",
       "title                 0\n",
       "authors               0\n",
       "average_rating        0\n",
       "isbn                  0\n",
       "isbn13                0\n",
       "language_code         0\n",
       "  num_pages           0\n",
       "ratings_count         0\n",
       "text_reviews_count    0\n",
       "publication_date      0\n",
       "publisher             0\n",
       "dtype: int64"
      ]
     },
     "execution_count": 8,
     "metadata": {},
     "output_type": "execute_result"
    }
   ],
   "source": [
    "books.isnull().sum()"
   ]
  },
  {
   "cell_type": "markdown",
   "metadata": {},
   "source": [
    "None, great!"
   ]
  },
  {
   "cell_type": "code",
   "execution_count": 9,
   "metadata": {},
   "outputs": [
    {
     "data": {
      "text/html": [
       "<div>\n",
       "<style scoped>\n",
       "    .dataframe tbody tr th:only-of-type {\n",
       "        vertical-align: middle;\n",
       "    }\n",
       "\n",
       "    .dataframe tbody tr th {\n",
       "        vertical-align: top;\n",
       "    }\n",
       "\n",
       "    .dataframe thead th {\n",
       "        text-align: right;\n",
       "    }\n",
       "</style>\n",
       "<table border=\"1\" class=\"dataframe\">\n",
       "  <thead>\n",
       "    <tr style=\"text-align: right;\">\n",
       "      <th></th>\n",
       "      <th>bookID</th>\n",
       "      <th>average_rating</th>\n",
       "      <th>isbn13</th>\n",
       "      <th>num_pages</th>\n",
       "      <th>ratings_count</th>\n",
       "      <th>text_reviews_count</th>\n",
       "    </tr>\n",
       "  </thead>\n",
       "  <tbody>\n",
       "    <tr>\n",
       "      <th>count</th>\n",
       "      <td>11123.000000</td>\n",
       "      <td>11123.000000</td>\n",
       "      <td>1.112300e+04</td>\n",
       "      <td>11123.000000</td>\n",
       "      <td>1.112300e+04</td>\n",
       "      <td>11123.000000</td>\n",
       "    </tr>\n",
       "    <tr>\n",
       "      <th>mean</th>\n",
       "      <td>21310.856963</td>\n",
       "      <td>3.934075</td>\n",
       "      <td>9.759880e+12</td>\n",
       "      <td>336.405556</td>\n",
       "      <td>1.794285e+04</td>\n",
       "      <td>542.048099</td>\n",
       "    </tr>\n",
       "    <tr>\n",
       "      <th>std</th>\n",
       "      <td>13094.727252</td>\n",
       "      <td>0.350485</td>\n",
       "      <td>4.429758e+11</td>\n",
       "      <td>241.152626</td>\n",
       "      <td>1.124992e+05</td>\n",
       "      <td>2576.619589</td>\n",
       "    </tr>\n",
       "    <tr>\n",
       "      <th>min</th>\n",
       "      <td>1.000000</td>\n",
       "      <td>0.000000</td>\n",
       "      <td>8.987060e+09</td>\n",
       "      <td>0.000000</td>\n",
       "      <td>0.000000e+00</td>\n",
       "      <td>0.000000</td>\n",
       "    </tr>\n",
       "    <tr>\n",
       "      <th>25%</th>\n",
       "      <td>10277.500000</td>\n",
       "      <td>3.770000</td>\n",
       "      <td>9.780345e+12</td>\n",
       "      <td>192.000000</td>\n",
       "      <td>1.040000e+02</td>\n",
       "      <td>9.000000</td>\n",
       "    </tr>\n",
       "    <tr>\n",
       "      <th>50%</th>\n",
       "      <td>20287.000000</td>\n",
       "      <td>3.960000</td>\n",
       "      <td>9.780582e+12</td>\n",
       "      <td>299.000000</td>\n",
       "      <td>7.450000e+02</td>\n",
       "      <td>47.000000</td>\n",
       "    </tr>\n",
       "    <tr>\n",
       "      <th>75%</th>\n",
       "      <td>32104.500000</td>\n",
       "      <td>4.140000</td>\n",
       "      <td>9.780872e+12</td>\n",
       "      <td>416.000000</td>\n",
       "      <td>5.000500e+03</td>\n",
       "      <td>238.000000</td>\n",
       "    </tr>\n",
       "    <tr>\n",
       "      <th>max</th>\n",
       "      <td>45641.000000</td>\n",
       "      <td>5.000000</td>\n",
       "      <td>9.790008e+12</td>\n",
       "      <td>6576.000000</td>\n",
       "      <td>4.597666e+06</td>\n",
       "      <td>94265.000000</td>\n",
       "    </tr>\n",
       "  </tbody>\n",
       "</table>\n",
       "</div>"
      ],
      "text/plain": [
       "             bookID  average_rating        isbn13     num_pages  \\\n",
       "count  11123.000000    11123.000000  1.112300e+04  11123.000000   \n",
       "mean   21310.856963        3.934075  9.759880e+12    336.405556   \n",
       "std    13094.727252        0.350485  4.429758e+11    241.152626   \n",
       "min        1.000000        0.000000  8.987060e+09      0.000000   \n",
       "25%    10277.500000        3.770000  9.780345e+12    192.000000   \n",
       "50%    20287.000000        3.960000  9.780582e+12    299.000000   \n",
       "75%    32104.500000        4.140000  9.780872e+12    416.000000   \n",
       "max    45641.000000        5.000000  9.790008e+12   6576.000000   \n",
       "\n",
       "       ratings_count  text_reviews_count  \n",
       "count   1.112300e+04        11123.000000  \n",
       "mean    1.794285e+04          542.048099  \n",
       "std     1.124992e+05         2576.619589  \n",
       "min     0.000000e+00            0.000000  \n",
       "25%     1.040000e+02            9.000000  \n",
       "50%     7.450000e+02           47.000000  \n",
       "75%     5.000500e+03          238.000000  \n",
       "max     4.597666e+06        94265.000000  "
      ]
     },
     "execution_count": 9,
     "metadata": {},
     "output_type": "execute_result"
    }
   ],
   "source": [
    "books.describe()"
   ]
  },
  {
   "cell_type": "code",
   "execution_count": 10,
   "metadata": {},
   "outputs": [
    {
     "data": {
      "text/html": [
       "<div>\n",
       "<style scoped>\n",
       "    .dataframe tbody tr th:only-of-type {\n",
       "        vertical-align: middle;\n",
       "    }\n",
       "\n",
       "    .dataframe tbody tr th {\n",
       "        vertical-align: top;\n",
       "    }\n",
       "\n",
       "    .dataframe thead th {\n",
       "        text-align: right;\n",
       "    }\n",
       "</style>\n",
       "<table border=\"1\" class=\"dataframe\">\n",
       "  <thead>\n",
       "    <tr style=\"text-align: right;\">\n",
       "      <th></th>\n",
       "      <th>bookID</th>\n",
       "      <th>title</th>\n",
       "      <th>authors</th>\n",
       "      <th>average_rating</th>\n",
       "      <th>isbn</th>\n",
       "      <th>isbn13</th>\n",
       "      <th>language_code</th>\n",
       "      <th>num_pages</th>\n",
       "      <th>ratings_count</th>\n",
       "      <th>text_reviews_count</th>\n",
       "      <th>publication_date</th>\n",
       "      <th>publisher</th>\n",
       "    </tr>\n",
       "  </thead>\n",
       "  <tbody>\n",
       "    <tr>\n",
       "      <th>count</th>\n",
       "      <td>11123.000000</td>\n",
       "      <td>11123</td>\n",
       "      <td>11123</td>\n",
       "      <td>11123.000000</td>\n",
       "      <td>11123</td>\n",
       "      <td>1.112300e+04</td>\n",
       "      <td>11123</td>\n",
       "      <td>11123.000000</td>\n",
       "      <td>1.112300e+04</td>\n",
       "      <td>11123.000000</td>\n",
       "      <td>11123</td>\n",
       "      <td>11123</td>\n",
       "    </tr>\n",
       "    <tr>\n",
       "      <th>unique</th>\n",
       "      <td>NaN</td>\n",
       "      <td>10348</td>\n",
       "      <td>6639</td>\n",
       "      <td>NaN</td>\n",
       "      <td>11123</td>\n",
       "      <td>NaN</td>\n",
       "      <td>27</td>\n",
       "      <td>NaN</td>\n",
       "      <td>NaN</td>\n",
       "      <td>NaN</td>\n",
       "      <td>3679</td>\n",
       "      <td>2290</td>\n",
       "    </tr>\n",
       "    <tr>\n",
       "      <th>top</th>\n",
       "      <td>NaN</td>\n",
       "      <td>The Brothers Karamazov</td>\n",
       "      <td>Stephen King</td>\n",
       "      <td>NaN</td>\n",
       "      <td>1843537206</td>\n",
       "      <td>NaN</td>\n",
       "      <td>eng</td>\n",
       "      <td>NaN</td>\n",
       "      <td>NaN</td>\n",
       "      <td>NaN</td>\n",
       "      <td>10/1/2005</td>\n",
       "      <td>Vintage</td>\n",
       "    </tr>\n",
       "    <tr>\n",
       "      <th>freq</th>\n",
       "      <td>NaN</td>\n",
       "      <td>9</td>\n",
       "      <td>40</td>\n",
       "      <td>NaN</td>\n",
       "      <td>1</td>\n",
       "      <td>NaN</td>\n",
       "      <td>8908</td>\n",
       "      <td>NaN</td>\n",
       "      <td>NaN</td>\n",
       "      <td>NaN</td>\n",
       "      <td>56</td>\n",
       "      <td>318</td>\n",
       "    </tr>\n",
       "    <tr>\n",
       "      <th>mean</th>\n",
       "      <td>21310.856963</td>\n",
       "      <td>NaN</td>\n",
       "      <td>NaN</td>\n",
       "      <td>3.934075</td>\n",
       "      <td>NaN</td>\n",
       "      <td>9.759880e+12</td>\n",
       "      <td>NaN</td>\n",
       "      <td>336.405556</td>\n",
       "      <td>1.794285e+04</td>\n",
       "      <td>542.048099</td>\n",
       "      <td>NaN</td>\n",
       "      <td>NaN</td>\n",
       "    </tr>\n",
       "    <tr>\n",
       "      <th>std</th>\n",
       "      <td>13094.727252</td>\n",
       "      <td>NaN</td>\n",
       "      <td>NaN</td>\n",
       "      <td>0.350485</td>\n",
       "      <td>NaN</td>\n",
       "      <td>4.429758e+11</td>\n",
       "      <td>NaN</td>\n",
       "      <td>241.152626</td>\n",
       "      <td>1.124992e+05</td>\n",
       "      <td>2576.619589</td>\n",
       "      <td>NaN</td>\n",
       "      <td>NaN</td>\n",
       "    </tr>\n",
       "    <tr>\n",
       "      <th>min</th>\n",
       "      <td>1.000000</td>\n",
       "      <td>NaN</td>\n",
       "      <td>NaN</td>\n",
       "      <td>0.000000</td>\n",
       "      <td>NaN</td>\n",
       "      <td>8.987060e+09</td>\n",
       "      <td>NaN</td>\n",
       "      <td>0.000000</td>\n",
       "      <td>0.000000e+00</td>\n",
       "      <td>0.000000</td>\n",
       "      <td>NaN</td>\n",
       "      <td>NaN</td>\n",
       "    </tr>\n",
       "    <tr>\n",
       "      <th>25%</th>\n",
       "      <td>10277.500000</td>\n",
       "      <td>NaN</td>\n",
       "      <td>NaN</td>\n",
       "      <td>3.770000</td>\n",
       "      <td>NaN</td>\n",
       "      <td>9.780345e+12</td>\n",
       "      <td>NaN</td>\n",
       "      <td>192.000000</td>\n",
       "      <td>1.040000e+02</td>\n",
       "      <td>9.000000</td>\n",
       "      <td>NaN</td>\n",
       "      <td>NaN</td>\n",
       "    </tr>\n",
       "    <tr>\n",
       "      <th>50%</th>\n",
       "      <td>20287.000000</td>\n",
       "      <td>NaN</td>\n",
       "      <td>NaN</td>\n",
       "      <td>3.960000</td>\n",
       "      <td>NaN</td>\n",
       "      <td>9.780582e+12</td>\n",
       "      <td>NaN</td>\n",
       "      <td>299.000000</td>\n",
       "      <td>7.450000e+02</td>\n",
       "      <td>47.000000</td>\n",
       "      <td>NaN</td>\n",
       "      <td>NaN</td>\n",
       "    </tr>\n",
       "    <tr>\n",
       "      <th>75%</th>\n",
       "      <td>32104.500000</td>\n",
       "      <td>NaN</td>\n",
       "      <td>NaN</td>\n",
       "      <td>4.140000</td>\n",
       "      <td>NaN</td>\n",
       "      <td>9.780872e+12</td>\n",
       "      <td>NaN</td>\n",
       "      <td>416.000000</td>\n",
       "      <td>5.000500e+03</td>\n",
       "      <td>238.000000</td>\n",
       "      <td>NaN</td>\n",
       "      <td>NaN</td>\n",
       "    </tr>\n",
       "    <tr>\n",
       "      <th>max</th>\n",
       "      <td>45641.000000</td>\n",
       "      <td>NaN</td>\n",
       "      <td>NaN</td>\n",
       "      <td>5.000000</td>\n",
       "      <td>NaN</td>\n",
       "      <td>9.790008e+12</td>\n",
       "      <td>NaN</td>\n",
       "      <td>6576.000000</td>\n",
       "      <td>4.597666e+06</td>\n",
       "      <td>94265.000000</td>\n",
       "      <td>NaN</td>\n",
       "      <td>NaN</td>\n",
       "    </tr>\n",
       "  </tbody>\n",
       "</table>\n",
       "</div>"
      ],
      "text/plain": [
       "              bookID                   title       authors  average_rating  \\\n",
       "count   11123.000000                   11123         11123    11123.000000   \n",
       "unique           NaN                   10348          6639             NaN   \n",
       "top              NaN  The Brothers Karamazov  Stephen King             NaN   \n",
       "freq             NaN                       9            40             NaN   \n",
       "mean    21310.856963                     NaN           NaN        3.934075   \n",
       "std     13094.727252                     NaN           NaN        0.350485   \n",
       "min         1.000000                     NaN           NaN        0.000000   \n",
       "25%     10277.500000                     NaN           NaN        3.770000   \n",
       "50%     20287.000000                     NaN           NaN        3.960000   \n",
       "75%     32104.500000                     NaN           NaN        4.140000   \n",
       "max     45641.000000                     NaN           NaN        5.000000   \n",
       "\n",
       "              isbn        isbn13 language_code     num_pages  ratings_count  \\\n",
       "count        11123  1.112300e+04         11123  11123.000000   1.112300e+04   \n",
       "unique       11123           NaN            27           NaN            NaN   \n",
       "top     1843537206           NaN           eng           NaN            NaN   \n",
       "freq             1           NaN          8908           NaN            NaN   \n",
       "mean           NaN  9.759880e+12           NaN    336.405556   1.794285e+04   \n",
       "std            NaN  4.429758e+11           NaN    241.152626   1.124992e+05   \n",
       "min            NaN  8.987060e+09           NaN      0.000000   0.000000e+00   \n",
       "25%            NaN  9.780345e+12           NaN    192.000000   1.040000e+02   \n",
       "50%            NaN  9.780582e+12           NaN    299.000000   7.450000e+02   \n",
       "75%            NaN  9.780872e+12           NaN    416.000000   5.000500e+03   \n",
       "max            NaN  9.790008e+12           NaN   6576.000000   4.597666e+06   \n",
       "\n",
       "        text_reviews_count publication_date publisher  \n",
       "count         11123.000000            11123     11123  \n",
       "unique                 NaN             3679      2290  \n",
       "top                    NaN        10/1/2005   Vintage  \n",
       "freq                   NaN               56       318  \n",
       "mean            542.048099              NaN       NaN  \n",
       "std            2576.619589              NaN       NaN  \n",
       "min               0.000000              NaN       NaN  \n",
       "25%               9.000000              NaN       NaN  \n",
       "50%              47.000000              NaN       NaN  \n",
       "75%             238.000000              NaN       NaN  \n",
       "max           94265.000000              NaN       NaN  "
      ]
     },
     "execution_count": 10,
     "metadata": {},
     "output_type": "execute_result"
    }
   ],
   "source": [
    "books.describe(include = \"all\")"
   ]
  },
  {
   "cell_type": "code",
   "execution_count": 11,
   "metadata": {},
   "outputs": [
    {
     "data": {
      "text/plain": [
       "bookID                  int64\n",
       "title                  object\n",
       "authors                object\n",
       "average_rating        float64\n",
       "isbn                   object\n",
       "isbn13                  int64\n",
       "language_code          object\n",
       "  num_pages             int64\n",
       "ratings_count           int64\n",
       "text_reviews_count      int64\n",
       "publication_date       object\n",
       "publisher              object\n",
       "dtype: object"
      ]
     },
     "execution_count": 11,
     "metadata": {},
     "output_type": "execute_result"
    }
   ],
   "source": [
    "books.dtypes"
   ]
  },
  {
   "cell_type": "code",
   "execution_count": 12,
   "metadata": {},
   "outputs": [],
   "source": [
    "books.bookID = books.bookID.astype('str')"
   ]
  },
  {
   "cell_type": "code",
   "execution_count": 13,
   "metadata": {},
   "outputs": [],
   "source": [
    "books.title = books.title.astype('str')"
   ]
  },
  {
   "cell_type": "code",
   "execution_count": 14,
   "metadata": {},
   "outputs": [],
   "source": [
    "books.authors = books.authors.astype('str')"
   ]
  },
  {
   "cell_type": "code",
   "execution_count": 15,
   "metadata": {},
   "outputs": [],
   "source": [
    "books.language_code  = books.language_code.astype('category')"
   ]
  },
  {
   "cell_type": "code",
   "execution_count": 16,
   "metadata": {},
   "outputs": [],
   "source": [
    "books.title = books.title.astype('str')"
   ]
  },
  {
   "cell_type": "code",
   "execution_count": 17,
   "metadata": {},
   "outputs": [],
   "source": [
    "books.average_rating = books.average_rating.astype('float64')"
   ]
  },
  {
   "cell_type": "code",
   "execution_count": 18,
   "metadata": {},
   "outputs": [
    {
     "ename": "AttributeError",
     "evalue": "'DataFrame' object has no attribute 'num_pages'",
     "output_type": "error",
     "traceback": [
      "\u001b[1;31m---------------------------------------------------------------------------\u001b[0m",
      "\u001b[1;31mAttributeError\u001b[0m                            Traceback (most recent call last)",
      "\u001b[1;32m<ipython-input-18-9321c6dc9e0d>\u001b[0m in \u001b[0;36m<module>\u001b[1;34m\u001b[0m\n\u001b[1;32m----> 1\u001b[1;33m \u001b[0mbooks\u001b[0m\u001b[1;33m.\u001b[0m\u001b[0mnum_pages\u001b[0m \u001b[1;33m=\u001b[0m \u001b[0mbooks\u001b[0m\u001b[1;33m.\u001b[0m\u001b[0mnum_pages\u001b[0m\u001b[1;33m.\u001b[0m\u001b[0mastype\u001b[0m\u001b[1;33m(\u001b[0m\u001b[1;34m'int64'\u001b[0m\u001b[1;33m)\u001b[0m\u001b[1;33m\u001b[0m\u001b[1;33m\u001b[0m\u001b[0m\n\u001b[0m",
      "\u001b[1;32mC:\\ProgramData\\Anaconda3\\lib\\site-packages\\pandas\\core\\generic.py\u001b[0m in \u001b[0;36m__getattr__\u001b[1;34m(self, name)\u001b[0m\n\u001b[0;32m   5272\u001b[0m             \u001b[1;32mif\u001b[0m \u001b[0mself\u001b[0m\u001b[1;33m.\u001b[0m\u001b[0m_info_axis\u001b[0m\u001b[1;33m.\u001b[0m\u001b[0m_can_hold_identifiers_and_holds_name\u001b[0m\u001b[1;33m(\u001b[0m\u001b[0mname\u001b[0m\u001b[1;33m)\u001b[0m\u001b[1;33m:\u001b[0m\u001b[1;33m\u001b[0m\u001b[1;33m\u001b[0m\u001b[0m\n\u001b[0;32m   5273\u001b[0m                 \u001b[1;32mreturn\u001b[0m \u001b[0mself\u001b[0m\u001b[1;33m[\u001b[0m\u001b[0mname\u001b[0m\u001b[1;33m]\u001b[0m\u001b[1;33m\u001b[0m\u001b[1;33m\u001b[0m\u001b[0m\n\u001b[1;32m-> 5274\u001b[1;33m             \u001b[1;32mreturn\u001b[0m \u001b[0mobject\u001b[0m\u001b[1;33m.\u001b[0m\u001b[0m__getattribute__\u001b[0m\u001b[1;33m(\u001b[0m\u001b[0mself\u001b[0m\u001b[1;33m,\u001b[0m \u001b[0mname\u001b[0m\u001b[1;33m)\u001b[0m\u001b[1;33m\u001b[0m\u001b[1;33m\u001b[0m\u001b[0m\n\u001b[0m\u001b[0;32m   5275\u001b[0m \u001b[1;33m\u001b[0m\u001b[0m\n\u001b[0;32m   5276\u001b[0m     \u001b[1;32mdef\u001b[0m \u001b[0m__setattr__\u001b[0m\u001b[1;33m(\u001b[0m\u001b[0mself\u001b[0m\u001b[1;33m,\u001b[0m \u001b[0mname\u001b[0m\u001b[1;33m:\u001b[0m \u001b[0mstr\u001b[0m\u001b[1;33m,\u001b[0m \u001b[0mvalue\u001b[0m\u001b[1;33m)\u001b[0m \u001b[1;33m->\u001b[0m \u001b[1;32mNone\u001b[0m\u001b[1;33m:\u001b[0m\u001b[1;33m\u001b[0m\u001b[1;33m\u001b[0m\u001b[0m\n",
      "\u001b[1;31mAttributeError\u001b[0m: 'DataFrame' object has no attribute 'num_pages'"
     ]
    }
   ],
   "source": [
    "books.num_pages = books.num_pages.astype('int64')"
   ]
  },
  {
   "cell_type": "code",
   "execution_count": 19,
   "metadata": {},
   "outputs": [
    {
     "data": {
      "text/plain": [
       "Index(['bookID', 'title', 'authors', 'average_rating', 'isbn', 'isbn13',\n",
       "       'language_code', '  num_pages', 'ratings_count', 'text_reviews_count',\n",
       "       'publication_date', 'publisher'],\n",
       "      dtype='object')"
      ]
     },
     "execution_count": 19,
     "metadata": {},
     "output_type": "execute_result"
    }
   ],
   "source": [
    "books.columns"
   ]
  },
  {
   "cell_type": "code",
   "execution_count": 20,
   "metadata": {},
   "outputs": [],
   "source": [
    "books.columns = ['bookID', 'title', 'authors', 'average_rating', 'isbn', 'isbn13',\n",
    "       'language_code', 'num_pages', 'ratings_count', 'text_reviews_count',\n",
    "       'publication_date', 'publisher']"
   ]
  },
  {
   "cell_type": "code",
   "execution_count": 21,
   "metadata": {},
   "outputs": [],
   "source": [
    "books.num_pages = books.num_pages.astype('int64')"
   ]
  },
  {
   "cell_type": "code",
   "execution_count": 22,
   "metadata": {},
   "outputs": [],
   "source": [
    "books.publication_date = [d.date().strftime(\"%d/%m/%Y\") for d in pd.to_datetime(books.publication_date.astype(str), format='%M/%d/%Y')]"
   ]
  },
  {
   "cell_type": "code",
   "execution_count": 75,
   "metadata": {},
   "outputs": [],
   "source": [
    "books.publisher  = books.publisher.astype('str')"
   ]
  },
  {
   "cell_type": "code",
   "execution_count": 24,
   "metadata": {},
   "outputs": [
    {
     "data": {
      "image/png": "[encoded data removed]",
      "text/plain": [
       "<Figure size 432x288 with 6 Axes>"
      ]
     },
     "metadata": {},
     "output_type": "display_data"
    }
   ],
   "source": [
    "books.hist();"
   ]
  },
  {
   "cell_type": "code",
   "execution_count": 25,
   "metadata": {},
   "outputs": [],
   "source": [
    "publisher_rating = pd.DataFrame(books.groupby(['publisher'], as_index = False).mean()[['publisher', 'average_rating']]).reset_index(drop=True)\n"
   ]
  },
  {
   "cell_type": "code",
   "execution_count": 26,
   "metadata": {},
   "outputs": [
    {
     "data": {
      "text/html": [
       "<div>\n",
       "<style scoped>\n",
       "    .dataframe tbody tr th:only-of-type {\n",
       "        vertical-align: middle;\n",
       "    }\n",
       "\n",
       "    .dataframe tbody tr th {\n",
       "        vertical-align: top;\n",
       "    }\n",
       "\n",
       "    .dataframe thead th {\n",
       "        text-align: right;\n",
       "    }\n",
       "</style>\n",
       "<table border=\"1\" class=\"dataframe\">\n",
       "  <thead>\n",
       "    <tr style=\"text-align: right;\">\n",
       "      <th></th>\n",
       "      <th>bookID</th>\n",
       "      <th>title</th>\n",
       "      <th>authors</th>\n",
       "      <th>average_rating</th>\n",
       "      <th>isbn</th>\n",
       "      <th>isbn13</th>\n",
       "      <th>language_code</th>\n",
       "      <th>num_pages</th>\n",
       "      <th>ratings_count</th>\n",
       "      <th>text_reviews_count</th>\n",
       "      <th>publication_date</th>\n",
       "      <th>publisher</th>\n",
       "    </tr>\n",
       "  </thead>\n",
       "  <tbody>\n",
       "    <tr>\n",
       "      <th>0</th>\n",
       "      <td>12</td>\n",
       "      <td>The Ultimate Hitchhiker's Guide: Five Complete...</td>\n",
       "      <td>Douglas Adams</td>\n",
       "      <td>4.38</td>\n",
       "      <td>0517226952</td>\n",
       "      <td>9780517226957</td>\n",
       "      <td>eng</td>\n",
       "      <td>815</td>\n",
       "      <td>3628</td>\n",
       "      <td>254</td>\n",
       "      <td>01/01/2005</td>\n",
       "      <td>Gramercy Books</td>\n",
       "    </tr>\n",
       "    <tr>\n",
       "      <th>1</th>\n",
       "      <td>13</td>\n",
       "      <td>The Ultimate Hitchhiker's Guide to the Galaxy ...</td>\n",
       "      <td>Douglas Adams</td>\n",
       "      <td>4.38</td>\n",
       "      <td>0345453743</td>\n",
       "      <td>9780345453747</td>\n",
       "      <td>eng</td>\n",
       "      <td>815</td>\n",
       "      <td>249558</td>\n",
       "      <td>4080</td>\n",
       "      <td>30/01/2002</td>\n",
       "      <td>Del Rey Books</td>\n",
       "    </tr>\n",
       "    <tr>\n",
       "      <th>2</th>\n",
       "      <td>14</td>\n",
       "      <td>The Hitchhiker's Guide to the Galaxy (Hitchhik...</td>\n",
       "      <td>Douglas Adams</td>\n",
       "      <td>4.22</td>\n",
       "      <td>1400052920</td>\n",
       "      <td>9781400052929</td>\n",
       "      <td>eng</td>\n",
       "      <td>215</td>\n",
       "      <td>4930</td>\n",
       "      <td>460</td>\n",
       "      <td>03/01/2004</td>\n",
       "      <td>Crown</td>\n",
       "    </tr>\n",
       "    <tr>\n",
       "      <th>3</th>\n",
       "      <td>16</td>\n",
       "      <td>The Hitchhiker's Guide to the Galaxy (Hitchhik...</td>\n",
       "      <td>Douglas Adams/Stephen Fry</td>\n",
       "      <td>4.22</td>\n",
       "      <td>0739322206</td>\n",
       "      <td>9780739322208</td>\n",
       "      <td>eng</td>\n",
       "      <td>6</td>\n",
       "      <td>1266</td>\n",
       "      <td>253</td>\n",
       "      <td>23/01/2005</td>\n",
       "      <td>Random House Audio</td>\n",
       "    </tr>\n",
       "    <tr>\n",
       "      <th>4</th>\n",
       "      <td>18</td>\n",
       "      <td>The Ultimate Hitchhiker's Guide (Hitchhiker's ...</td>\n",
       "      <td>Douglas Adams</td>\n",
       "      <td>4.38</td>\n",
       "      <td>0517149257</td>\n",
       "      <td>9780517149256</td>\n",
       "      <td>eng</td>\n",
       "      <td>815</td>\n",
       "      <td>2877</td>\n",
       "      <td>195</td>\n",
       "      <td>17/01/1996</td>\n",
       "      <td>Wings Books</td>\n",
       "    </tr>\n",
       "  </tbody>\n",
       "</table>\n",
       "</div>"
      ],
      "text/plain": [
       "  bookID                                              title  \\\n",
       "0     12  The Ultimate Hitchhiker's Guide: Five Complete...   \n",
       "1     13  The Ultimate Hitchhiker's Guide to the Galaxy ...   \n",
       "2     14  The Hitchhiker's Guide to the Galaxy (Hitchhik...   \n",
       "3     16  The Hitchhiker's Guide to the Galaxy (Hitchhik...   \n",
       "4     18  The Ultimate Hitchhiker's Guide (Hitchhiker's ...   \n",
       "\n",
       "                     authors  average_rating        isbn         isbn13  \\\n",
       "0              Douglas Adams            4.38  0517226952  9780517226957   \n",
       "1              Douglas Adams            4.38  0345453743  9780345453747   \n",
       "2              Douglas Adams            4.22  1400052920  9781400052929   \n",
       "3  Douglas Adams/Stephen Fry            4.22  0739322206  9780739322208   \n",
       "4              Douglas Adams            4.38  0517149257  9780517149256   \n",
       "\n",
       "  language_code  num_pages  ratings_count  text_reviews_count  \\\n",
       "0           eng        815           3628                 254   \n",
       "1           eng        815         249558                4080   \n",
       "2           eng        215           4930                 460   \n",
       "3           eng          6           1266                 253   \n",
       "4           eng        815           2877                 195   \n",
       "\n",
       "  publication_date           publisher  \n",
       "0       01/01/2005      Gramercy Books  \n",
       "1       30/01/2002       Del Rey Books  \n",
       "2       03/01/2004               Crown  \n",
       "3       23/01/2005  Random House Audio  \n",
       "4       17/01/1996         Wings Books  "
      ]
     },
     "execution_count": 26,
     "metadata": {},
     "output_type": "execute_result"
    }
   ],
   "source": [
    "books.head()"
   ]
  },
  {
   "cell_type": "markdown",
   "metadata": {},
   "source": [
    "## Questions I want to uncover using this data :\n",
    "1. Do books from certain publisher/author tend to have high ratings?\n",
    "2. Which books from certain period are have more rating?\n",
    "3. Can more ratings mean that the book is more popular?"
   ]
  },
  {
   "cell_type": "code",
   "execution_count": 125,
   "metadata": {},
   "outputs": [
    {
     "name": "stderr",
     "output_type": "stream",
     "text": [
      "C:\\ProgramData\\Anaconda3\\lib\\site-packages\\ipykernel_launcher.py:4: UserWarning: Boolean Series key will be reindexed to match DataFrame index.\n",
      "  after removing the cwd from sys.path.\n",
      "C:\\ProgramData\\Anaconda3\\lib\\site-packages\\ipykernel_launcher.py:8: UserWarning: Boolean Series key will be reindexed to match DataFrame index.\n",
      "  \n"
     ]
    }
   ],
   "source": [
    "# 1. \n",
    "publisher_avg_rating = pd.DataFrame(books.groupby('authors', as_index = False).mean()[['authors', 'average_rating']].sort_values(by = 'average_rating')).reset_index(drop=True)\n",
    "publisher_avg_rating_5 = publisher_avg_rating[publisher_avg_rating.average_rating == 5]\n",
    "publisher_avg_rating_grte_4_5 = publisher_avg_rating[publisher_avg_rating.average_rating >=4.5][publisher_avg_rating.average_rating != 5]\n",
    "\n",
    "author_avg_rating = pd.DataFrame(books.groupby('authors', as_index = False).mean()[['authors', 'average_rating']].sort_values(by = 'average_rating')).reset_index(drop=True)\n",
    "author_avg_rating_5 = author_avg_rating[author_avg_rating.average_rating == 5]\n",
    "author_avg_rating_grte_4_7 = author_avg_rating[author_avg_rating.average_rating >=4.7][author_avg_rating.average_rating != 5]\n",
    "\n",
    "\n"
   ]
  },
  {
   "cell_type": "code",
   "execution_count": 118,
   "metadata": {},
   "outputs": [
    {
     "name": "stdout",
     "output_type": "stream",
     "text": [
      "Publishers who have their average ratings = 5 : \n",
      "\n",
      "                           publisher  average_rating\n",
      "0                           Y Lolfa             5.0\n",
      "1   University Press of New England             5.0\n",
      "2                   Chartwell Books             5.0\n",
      "3                   T&T Clark Int'l             5.0\n",
      "4        Texas A&M University Press             5.0\n",
      "5             Square One Publishers             5.0\n",
      "6                          Raintree             5.0\n",
      "7                   Academica Press             5.0\n",
      "8                    Schirmer Mosel             5.0\n",
      "9               Boosey & Hawkes Inc             5.0\n",
      "10                    Courage Books             5.0\n",
      "11                    Vantage Press             5.0\n"
     ]
    }
   ],
   "source": [
    "print(\"Publishers who have their average ratings = 5 : \\n\\n\", publisher_avg_rating_5.reset_index(drop = True))"
   ]
  },
  {
   "cell_type": "code",
   "execution_count": 124,
   "metadata": {},
   "outputs": [
    {
     "name": "stdout",
     "output_type": "stream",
     "text": [
      "\n",
      "\n",
      "Publishers who have their average ratings >= 4.5 : \n",
      "\n",
      "                                   authors  average_rating\n",
      "0                           Charles Allen            4.50\n",
      "1                Joan Didion/John Leonard            4.50\n",
      "2                              Tim Bogenn            4.50\n",
      "3                              Chet Green            4.50\n",
      "4                 Sherry Gershon Gottlieb            4.50\n",
      "..                                    ...             ...\n",
      "105     Don Macmillan/Wayne G. Broehl Jr.            4.75\n",
      "106  Henry David Thoreau/Barry M. Andrews            4.75\n",
      "107                          Jerry Burton            4.83\n",
      "108                Alice Wong/Lena Tabori            4.88\n",
      "109                       Simon Cleveland            4.91\n",
      "\n",
      "[110 rows x 2 columns]\n"
     ]
    }
   ],
   "source": [
    "print(\"\\n\\nPublishers who have their average ratings >= 4.5 : \\n\\n\", publisher_avg_rating_grte_4_5.reset_index(drop = True))"
   ]
  },
  {
   "cell_type": "code",
   "execution_count": 126,
   "metadata": {},
   "outputs": [
    {
     "name": "stdout",
     "output_type": "stream",
     "text": [
      "\n",
      "\n",
      "Publishers who have their average ratings = 5 : \n",
      "\n",
      "                                               authors  average_rating\n",
      "0                                     Elena N. Mahlow             5.0\n",
      "1                                      R. McL. Wilson             5.0\n",
      "2                                        Ross Garnaut             5.0\n",
      "3                                  William C. Dowling             5.0\n",
      "4                                   James E. Campbell             5.0\n",
      "5   Laura Driscoll/Alisa Klayman-Grodsky/Eric     ...             5.0\n",
      "6                                       John  Diamond             5.0\n",
      "7                                       Keith Donohue             5.0\n",
      "8                     Julie Sylvester/David Sylvester             5.0\n",
      "9                     Ian        Martin/Katie Elliott             5.0\n",
      "10                               Todd Davis/Marc Frey             5.0\n",
      "11                Aristophanes/F.W. Hall/W.M. Geldart             5.0\n",
      "12                                   Sara Barton-Wood             5.0\n",
      "13                                Sheri Rose Shepherd             5.0\n",
      "14               Middlesex Borough Heritage Committee             5.0\n",
      "15                    Nicholas    Evans/Rhonda  Evans             5.0\n",
      "16   Chris    Green/Chris Wright/Paul Douglas Gardner             5.0\n",
      "17                           Dennis Adler/R.L. Wilson             5.0\n",
      "\n",
      "\n",
      "Publishers who have their average ratings >= 4.7 : \n",
      "\n",
      "                                         authors  average_rating\n",
      "0                                  Gary Chapman        4.700000\n",
      "1                                     Anonymous        4.700000\n",
      "2                                Bill Watterson        4.708571\n",
      "3                                  Bruce Spizer        4.720000\n",
      "4   Murray Sayle/Charles Flowers/Elliott Erwitt        4.720000\n",
      "5                   Saul Leiter/Martin Harrison        4.730000\n",
      "6             Don Macmillan/Wayne G. Broehl Jr.        4.750000\n",
      "7          Henry David Thoreau/Barry M. Andrews        4.750000\n",
      "8                                  Jerry Burton        4.830000\n",
      "9                        Alice Wong/Lena Tabori        4.880000\n",
      "10                              Simon Cleveland        4.910000\n"
     ]
    }
   ],
   "source": [
    "print(\"\\n\\nPublishers who have their average ratings = 5 : \\n\\n\", author_avg_rating_5.reset_index(drop = True))\n",
    "print(\"\\n\\nPublishers who have their average ratings >= 4.7 : \\n\\n\", author_avg_rating_grte_4_7.reset_index(drop = True))"
   ]
  },
  {
   "cell_type": "code",
   "execution_count": null,
   "metadata": {},
   "outputs": [],
   "source": [
    "from sklearn.linear_model import LinearRegression\n",
    "from sklearn.model_selection import train_test_split\n",
    "from sklearn.metrics import r2_score, mean_squared_error"
   ]
  },
  {
   "cell_type": "code",
   "execution_count": null,
   "metadata": {},
   "outputs": [],
   "source": []
  },
  {
   "cell_type": "code",
   "execution_count": null,
   "metadata": {},
   "outputs": [],
   "source": [
    "linReg = LinearRegression"
   ]
  }
 ],
 "metadata": {
  "celltoolbar": "Raw Cell Format",
  "kernelspec": {
   "display_name": "Python 3",
   "language": "python",
   "name": "python3"
  },
  "language_info": {
   "codemirror_mode": {
    "name": "ipython",
    "version": 3
   },
   "file_extension": ".py",
   "mimetype": "text/x-python",
   "name": "python",
   "nbconvert_exporter": "python",
   "pygments_lexer": "ipython3",
   "version": "3.7.6"
  }
 },
 "nbformat": 4,
 "nbformat_minor": 4
}
